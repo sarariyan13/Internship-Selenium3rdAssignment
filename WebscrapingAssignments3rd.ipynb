{
 "cells": [
  {
   "cell_type": "code",
   "execution_count": 1,
   "id": "c83f30cf",
   "metadata": {},
   "outputs": [
    {
     "name": "stdout",
     "output_type": "stream",
     "text": [
      "Requirement already satisfied: selenium in c:\\users\\admin\\anaconda3\\lib\\site-packages (4.10.0)\n",
      "Requirement already satisfied: trio~=0.17 in c:\\users\\admin\\anaconda3\\lib\\site-packages (from selenium) (0.22.2)\n",
      "Requirement already satisfied: urllib3[socks]<3,>=1.26 in c:\\users\\admin\\anaconda3\\lib\\site-packages (from selenium) (1.26.11)\n",
      "Requirement already satisfied: certifi>=2021.10.8 in c:\\users\\admin\\anaconda3\\lib\\site-packages (from selenium) (2022.9.14)\n",
      "Requirement already satisfied: trio-websocket~=0.9 in c:\\users\\admin\\anaconda3\\lib\\site-packages (from selenium) (0.10.3)\n",
      "Requirement already satisfied: cffi>=1.14 in c:\\users\\admin\\anaconda3\\lib\\site-packages (from trio~=0.17->selenium) (1.15.1)\n",
      "Requirement already satisfied: sniffio in c:\\users\\admin\\anaconda3\\lib\\site-packages (from trio~=0.17->selenium) (1.2.0)\n",
      "Requirement already satisfied: idna in c:\\users\\admin\\anaconda3\\lib\\site-packages (from trio~=0.17->selenium) (3.3)\n",
      "Requirement already satisfied: attrs>=20.1.0 in c:\\users\\admin\\anaconda3\\lib\\site-packages (from trio~=0.17->selenium) (21.4.0)\n",
      "Requirement already satisfied: exceptiongroup>=1.0.0rc9 in c:\\users\\admin\\anaconda3\\lib\\site-packages (from trio~=0.17->selenium) (1.1.2)\n",
      "Requirement already satisfied: outcome in c:\\users\\admin\\anaconda3\\lib\\site-packages (from trio~=0.17->selenium) (1.2.0)\n",
      "Requirement already satisfied: sortedcontainers in c:\\users\\admin\\anaconda3\\lib\\site-packages (from trio~=0.17->selenium) (2.4.0)\n",
      "Requirement already satisfied: wsproto>=0.14 in c:\\users\\admin\\anaconda3\\lib\\site-packages (from trio-websocket~=0.9->selenium) (1.2.0)\n",
      "Requirement already satisfied: PySocks!=1.5.7,<2.0,>=1.5.6 in c:\\users\\admin\\anaconda3\\lib\\site-packages (from urllib3[socks]<3,>=1.26->selenium) (1.7.1)\n",
      "Requirement already satisfied: pycparser in c:\\users\\admin\\anaconda3\\lib\\site-packages (from cffi>=1.14->trio~=0.17->selenium) (2.21)\n",
      "Requirement already satisfied: h11<1,>=0.9.0 in c:\\users\\admin\\anaconda3\\lib\\site-packages (from wsproto>=0.14->trio-websocket~=0.9->selenium) (0.14.0)\n"
     ]
    }
   ],
   "source": [
    "!pip install selenium"
   ]
  },
  {
   "cell_type": "code",
   "execution_count": 2,
   "id": "df07a770",
   "metadata": {},
   "outputs": [],
   "source": [
    "import pandas as pd\n",
    "import selenium\n",
    "from bs4 import BeautifulSoup\n",
    "import time\n",
    "from selenium import webdriver\n",
    "import requests\n",
    "import re\n",
    "from selenium.common.exceptions import NoSuchElementException, StaleElementReferenceException\n",
    "from selenium.webdriver.support.ui import WebDriverWait\n",
    "from selenium.webdriver.common.by import By "
   ]
  },
  {
   "cell_type": "code",
   "execution_count": 4,
   "id": "7db4cd8e",
   "metadata": {},
   "outputs": [
    {
     "name": "stdout",
     "output_type": "stream",
     "text": [
      "Requirement already satisfied: webdriver-manager in c:\\users\\admin\\anaconda3\\lib\\site-packages (3.8.6)\n",
      "Requirement already satisfied: python-dotenv in c:\\users\\admin\\anaconda3\\lib\\site-packages (from webdriver-manager) (1.0.0)\n",
      "Requirement already satisfied: requests in c:\\users\\admin\\anaconda3\\lib\\site-packages (from webdriver-manager) (2.28.1)\n",
      "Requirement already satisfied: packaging in c:\\users\\admin\\anaconda3\\lib\\site-packages (from webdriver-manager) (21.3)\n",
      "Requirement already satisfied: tqdm in c:\\users\\admin\\anaconda3\\lib\\site-packages (from webdriver-manager) (4.64.1)\n",
      "Requirement already satisfied: pyparsing!=3.0.5,>=2.0.2 in c:\\users\\admin\\anaconda3\\lib\\site-packages (from packaging->webdriver-manager) (3.0.9)\n",
      "Requirement already satisfied: charset-normalizer<3,>=2 in c:\\users\\admin\\anaconda3\\lib\\site-packages (from requests->webdriver-manager) (2.0.4)\n",
      "Requirement already satisfied: idna<4,>=2.5 in c:\\users\\admin\\anaconda3\\lib\\site-packages (from requests->webdriver-manager) (3.3)\n",
      "Requirement already satisfied: urllib3<1.27,>=1.21.1 in c:\\users\\admin\\anaconda3\\lib\\site-packages (from requests->webdriver-manager) (1.26.11)\n",
      "Requirement already satisfied: certifi>=2017.4.17 in c:\\users\\admin\\anaconda3\\lib\\site-packages (from requests->webdriver-manager) (2022.9.14)\n",
      "Requirement already satisfied: colorama in c:\\users\\admin\\anaconda3\\lib\\site-packages (from tqdm->webdriver-manager) (0.4.5)\n"
     ]
    }
   ],
   "source": [
    "!pip install webdriver-manager"
   ]
  },
  {
   "cell_type": "code",
   "execution_count": 5,
   "id": "9e8da3d0",
   "metadata": {},
   "outputs": [],
   "source": [
    "driver = webdriver.Chrome()"
   ]
  },
  {
   "cell_type": "markdown",
   "id": "55de5dab",
   "metadata": {},
   "source": [
    "# 1. Write a python program which searches all the product under a particular product from www.amazon.in. The product to be searched will be taken as input from user. For e.g. If user input is ‘guitar’. Then search for guitars."
   ]
  },
  {
   "cell_type": "code",
   "execution_count": 3,
   "id": "4921f7de",
   "metadata": {},
   "outputs": [],
   "source": [
    "driver.get(\"https://www.amazon.in\")\n"
   ]
  },
  {
   "cell_type": "code",
   "execution_count": 4,
   "id": "1c206e5f",
   "metadata": {},
   "outputs": [
    {
     "name": "stdout",
     "output_type": "stream",
     "text": [
      "Enter the product you want to search : guitar\n"
     ]
    }
   ],
   "source": [
    "user_inp = input('Enter the product you want to search : ')"
   ]
  },
  {
   "cell_type": "code",
   "execution_count": 5,
   "id": "b57074aa",
   "metadata": {},
   "outputs": [],
   "source": [
    "search_bar = driver.find_element(By.XPATH,'/html/body/div[1]/header/div/div[1]/div[2]/div/form/div[2]/div[1]/input')   \n",
    "search_bar.send_keys(user_inp) "
   ]
  },
  {
   "cell_type": "code",
   "execution_count": 6,
   "id": "6e13ab0e",
   "metadata": {},
   "outputs": [],
   "source": [
    "select=driver.find_element(By.XPATH, '/html/body/div[1]/header/div/div[1]/div[2]/div/form/div[3]/div/span/input')\n",
    "select.click()"
   ]
  },
  {
   "cell_type": "markdown",
   "id": "2e6e8f68",
   "metadata": {},
   "source": [
    "# 2. In the above question, now scrape the following details of each product listed in first 3 pages of your search results and save it in a data frame and csv. In case if any product has less than 3 pages in search results then scrape all the products available under that product name. Details to be scraped are: \"Brand Name\", \"Name of the Product\", \"Price\", \"Return/Exchange\", \"Expected Delivery\", \"Availability\" and "
   ]
  },
  {
   "cell_type": "code",
   "execution_count": 9,
   "id": "79575eb2",
   "metadata": {},
   "outputs": [],
   "source": [
    "product_urls=[]\n",
    "url=driver.find_elements(By.XPATH, '//a[@class=\"a-link-normal s-underline-text s-underline-link-text s-link-style a-text-normal\"]')\n",
    "for i in url:\n",
    "        product_urls.append(i.get_attribute(\"href\"))"
   ]
  },
  {
   "cell_type": "code",
   "execution_count": 11,
   "id": "f2bebb5d",
   "metadata": {},
   "outputs": [],
   "source": [
    "product_urls=[]"
   ]
  },
  {
   "cell_type": "code",
   "execution_count": 26,
   "id": "33641cbb",
   "metadata": {},
   "outputs": [
    {
     "data": {
      "text/plain": [
       "[<selenium.webdriver.remote.webelement.WebElement (session=\"a09c838378532ad821be85e525afde10\", element=\"9232778D6513C228780F036233BE27AA_element_810\")>,\n",
       " <selenium.webdriver.remote.webelement.WebElement (session=\"a09c838378532ad821be85e525afde10\", element=\"9232778D6513C228780F036233BE27AA_element_813\")>,\n",
       " <selenium.webdriver.remote.webelement.WebElement (session=\"a09c838378532ad821be85e525afde10\", element=\"9232778D6513C228780F036233BE27AA_element_814\")>,\n",
       " <selenium.webdriver.remote.webelement.WebElement (session=\"a09c838378532ad821be85e525afde10\", element=\"9232778D6513C228780F036233BE27AA_element_815\")>,\n",
       " <selenium.webdriver.remote.webelement.WebElement (session=\"a09c838378532ad821be85e525afde10\", element=\"9232778D6513C228780F036233BE27AA_element_816\")>,\n",
       " <selenium.webdriver.remote.webelement.WebElement (session=\"a09c838378532ad821be85e525afde10\", element=\"9232778D6513C228780F036233BE27AA_element_817\")>,\n",
       " <selenium.webdriver.remote.webelement.WebElement (session=\"a09c838378532ad821be85e525afde10\", element=\"9232778D6513C228780F036233BE27AA_element_818\")>,\n",
       " <selenium.webdriver.remote.webelement.WebElement (session=\"a09c838378532ad821be85e525afde10\", element=\"9232778D6513C228780F036233BE27AA_element_819\")>,\n",
       " <selenium.webdriver.remote.webelement.WebElement (session=\"a09c838378532ad821be85e525afde10\", element=\"9232778D6513C228780F036233BE27AA_element_820\")>,\n",
       " <selenium.webdriver.remote.webelement.WebElement (session=\"a09c838378532ad821be85e525afde10\", element=\"9232778D6513C228780F036233BE27AA_element_821\")>,\n",
       " <selenium.webdriver.remote.webelement.WebElement (session=\"a09c838378532ad821be85e525afde10\", element=\"9232778D6513C228780F036233BE27AA_element_822\")>,\n",
       " <selenium.webdriver.remote.webelement.WebElement (session=\"a09c838378532ad821be85e525afde10\", element=\"9232778D6513C228780F036233BE27AA_element_823\")>,\n",
       " <selenium.webdriver.remote.webelement.WebElement (session=\"a09c838378532ad821be85e525afde10\", element=\"9232778D6513C228780F036233BE27AA_element_824\")>,\n",
       " <selenium.webdriver.remote.webelement.WebElement (session=\"a09c838378532ad821be85e525afde10\", element=\"9232778D6513C228780F036233BE27AA_element_825\")>,\n",
       " <selenium.webdriver.remote.webelement.WebElement (session=\"a09c838378532ad821be85e525afde10\", element=\"9232778D6513C228780F036233BE27AA_element_826\")>,\n",
       " <selenium.webdriver.remote.webelement.WebElement (session=\"a09c838378532ad821be85e525afde10\", element=\"9232778D6513C228780F036233BE27AA_element_827\")>,\n",
       " <selenium.webdriver.remote.webelement.WebElement (session=\"a09c838378532ad821be85e525afde10\", element=\"9232778D6513C228780F036233BE27AA_element_828\")>,\n",
       " <selenium.webdriver.remote.webelement.WebElement (session=\"a09c838378532ad821be85e525afde10\", element=\"9232778D6513C228780F036233BE27AA_element_829\")>,\n",
       " <selenium.webdriver.remote.webelement.WebElement (session=\"a09c838378532ad821be85e525afde10\", element=\"9232778D6513C228780F036233BE27AA_element_830\")>,\n",
       " <selenium.webdriver.remote.webelement.WebElement (session=\"a09c838378532ad821be85e525afde10\", element=\"9232778D6513C228780F036233BE27AA_element_831\")>,\n",
       " <selenium.webdriver.remote.webelement.WebElement (session=\"a09c838378532ad821be85e525afde10\", element=\"9232778D6513C228780F036233BE27AA_element_832\")>,\n",
       " <selenium.webdriver.remote.webelement.WebElement (session=\"a09c838378532ad821be85e525afde10\", element=\"9232778D6513C228780F036233BE27AA_element_833\")>,\n",
       " <selenium.webdriver.remote.webelement.WebElement (session=\"a09c838378532ad821be85e525afde10\", element=\"9232778D6513C228780F036233BE27AA_element_834\")>,\n",
       " <selenium.webdriver.remote.webelement.WebElement (session=\"a09c838378532ad821be85e525afde10\", element=\"9232778D6513C228780F036233BE27AA_element_835\")>,\n",
       " <selenium.webdriver.remote.webelement.WebElement (session=\"a09c838378532ad821be85e525afde10\", element=\"9232778D6513C228780F036233BE27AA_element_836\")>,\n",
       " <selenium.webdriver.remote.webelement.WebElement (session=\"a09c838378532ad821be85e525afde10\", element=\"9232778D6513C228780F036233BE27AA_element_837\")>,\n",
       " <selenium.webdriver.remote.webelement.WebElement (session=\"a09c838378532ad821be85e525afde10\", element=\"9232778D6513C228780F036233BE27AA_element_838\")>,\n",
       " <selenium.webdriver.remote.webelement.WebElement (session=\"a09c838378532ad821be85e525afde10\", element=\"9232778D6513C228780F036233BE27AA_element_839\")>,\n",
       " <selenium.webdriver.remote.webelement.WebElement (session=\"a09c838378532ad821be85e525afde10\", element=\"9232778D6513C228780F036233BE27AA_element_840\")>,\n",
       " <selenium.webdriver.remote.webelement.WebElement (session=\"a09c838378532ad821be85e525afde10\", element=\"9232778D6513C228780F036233BE27AA_element_841\")>,\n",
       " <selenium.webdriver.remote.webelement.WebElement (session=\"a09c838378532ad821be85e525afde10\", element=\"9232778D6513C228780F036233BE27AA_element_842\")>,\n",
       " <selenium.webdriver.remote.webelement.WebElement (session=\"a09c838378532ad821be85e525afde10\", element=\"9232778D6513C228780F036233BE27AA_element_843\")>,\n",
       " <selenium.webdriver.remote.webelement.WebElement (session=\"a09c838378532ad821be85e525afde10\", element=\"9232778D6513C228780F036233BE27AA_element_844\")>,\n",
       " <selenium.webdriver.remote.webelement.WebElement (session=\"a09c838378532ad821be85e525afde10\", element=\"9232778D6513C228780F036233BE27AA_element_845\")>,\n",
       " <selenium.webdriver.remote.webelement.WebElement (session=\"a09c838378532ad821be85e525afde10\", element=\"9232778D6513C228780F036233BE27AA_element_846\")>,\n",
       " <selenium.webdriver.remote.webelement.WebElement (session=\"a09c838378532ad821be85e525afde10\", element=\"9232778D6513C228780F036233BE27AA_element_847\")>,\n",
       " <selenium.webdriver.remote.webelement.WebElement (session=\"a09c838378532ad821be85e525afde10\", element=\"9232778D6513C228780F036233BE27AA_element_848\")>,\n",
       " <selenium.webdriver.remote.webelement.WebElement (session=\"a09c838378532ad821be85e525afde10\", element=\"9232778D6513C228780F036233BE27AA_element_849\")>,\n",
       " <selenium.webdriver.remote.webelement.WebElement (session=\"a09c838378532ad821be85e525afde10\", element=\"9232778D6513C228780F036233BE27AA_element_850\")>,\n",
       " <selenium.webdriver.remote.webelement.WebElement (session=\"a09c838378532ad821be85e525afde10\", element=\"9232778D6513C228780F036233BE27AA_element_851\")>,\n",
       " <selenium.webdriver.remote.webelement.WebElement (session=\"a09c838378532ad821be85e525afde10\", element=\"9232778D6513C228780F036233BE27AA_element_852\")>,\n",
       " <selenium.webdriver.remote.webelement.WebElement (session=\"a09c838378532ad821be85e525afde10\", element=\"9232778D6513C228780F036233BE27AA_element_853\")>,\n",
       " <selenium.webdriver.remote.webelement.WebElement (session=\"a09c838378532ad821be85e525afde10\", element=\"9232778D6513C228780F036233BE27AA_element_854\")>,\n",
       " <selenium.webdriver.remote.webelement.WebElement (session=\"a09c838378532ad821be85e525afde10\", element=\"9232778D6513C228780F036233BE27AA_element_855\")>,\n",
       " <selenium.webdriver.remote.webelement.WebElement (session=\"a09c838378532ad821be85e525afde10\", element=\"9232778D6513C228780F036233BE27AA_element_856\")>,\n",
       " <selenium.webdriver.remote.webelement.WebElement (session=\"a09c838378532ad821be85e525afde10\", element=\"9232778D6513C228780F036233BE27AA_element_857\")>,\n",
       " <selenium.webdriver.remote.webelement.WebElement (session=\"a09c838378532ad821be85e525afde10\", element=\"9232778D6513C228780F036233BE27AA_element_858\")>,\n",
       " <selenium.webdriver.remote.webelement.WebElement (session=\"a09c838378532ad821be85e525afde10\", element=\"9232778D6513C228780F036233BE27AA_element_859\")>,\n",
       " <selenium.webdriver.remote.webelement.WebElement (session=\"a09c838378532ad821be85e525afde10\", element=\"9232778D6513C228780F036233BE27AA_element_860\")>,\n",
       " <selenium.webdriver.remote.webelement.WebElement (session=\"a09c838378532ad821be85e525afde10\", element=\"9232778D6513C228780F036233BE27AA_element_861\")>,\n",
       " <selenium.webdriver.remote.webelement.WebElement (session=\"a09c838378532ad821be85e525afde10\", element=\"9232778D6513C228780F036233BE27AA_element_862\")>,\n",
       " <selenium.webdriver.remote.webelement.WebElement (session=\"a09c838378532ad821be85e525afde10\", element=\"9232778D6513C228780F036233BE27AA_element_863\")>,\n",
       " <selenium.webdriver.remote.webelement.WebElement (session=\"a09c838378532ad821be85e525afde10\", element=\"9232778D6513C228780F036233BE27AA_element_864\")>,\n",
       " <selenium.webdriver.remote.webelement.WebElement (session=\"a09c838378532ad821be85e525afde10\", element=\"9232778D6513C228780F036233BE27AA_element_865\")>,\n",
       " <selenium.webdriver.remote.webelement.WebElement (session=\"a09c838378532ad821be85e525afde10\", element=\"9232778D6513C228780F036233BE27AA_element_866\")>,\n",
       " <selenium.webdriver.remote.webelement.WebElement (session=\"a09c838378532ad821be85e525afde10\", element=\"9232778D6513C228780F036233BE27AA_element_867\")>,\n",
       " <selenium.webdriver.remote.webelement.WebElement (session=\"a09c838378532ad821be85e525afde10\", element=\"9232778D6513C228780F036233BE27AA_element_868\")>,\n",
       " <selenium.webdriver.remote.webelement.WebElement (session=\"a09c838378532ad821be85e525afde10\", element=\"9232778D6513C228780F036233BE27AA_element_869\")>,\n",
       " <selenium.webdriver.remote.webelement.WebElement (session=\"a09c838378532ad821be85e525afde10\", element=\"9232778D6513C228780F036233BE27AA_element_870\")>,\n",
       " <selenium.webdriver.remote.webelement.WebElement (session=\"a09c838378532ad821be85e525afde10\", element=\"9232778D6513C228780F036233BE27AA_element_871\")>]"
      ]
     },
     "execution_count": 26,
     "metadata": {},
     "output_type": "execute_result"
    }
   ],
   "source": [
    "url=driver.find_elements(By.XPATH, '//a[@class=\"a-link-normal s-underline-text s-underline-link-text s-link-style a-text-normal\"]')\n",
    "url"
   ]
  },
  {
   "cell_type": "code",
   "execution_count": 27,
   "id": "49c9f90f",
   "metadata": {},
   "outputs": [
    {
     "name": "stdout",
     "output_type": "stream",
     "text": [
      "https://www.amazon.in/sspa/click?ie=UTF8&spc=MTo2NDYzODAwNjg5OTIwMDc5OjE2OTE0MzcyNjc6c3BfYXRmX25leHQ6MjAxNTIyMzM2ODk0OTg6OjA6Og&url=%2FKadence-Frontier-Acoustic-Wihtout-Sunburst%2Fdp%2FB08PKN69XK%2Fref%3Dsr_1_49_sspa%3Fkeywords%3Dguitar%26qid%3D1691437267%26sr%3D8-49-spons%26sp_csd%3Dd2lkZ2V0TmFtZT1zcF9hdGZfbmV4dA%26psc%3D1\n",
      "https://www.amazon.in/sspa/click?ie=UTF8&spc=MTo2NDYzODAwNjg5OTIwMDc5OjE2OTE0MzcyNjc6c3BfYXRmX25leHQ6MjAwOTI2MjQwMjE1OTg6OjA6Og&url=%2FDreadnought-Acoustic-Gig-Bag-Strings-Polishing%2Fdp%2FB0BJJRJVHY%2Fref%3Dsr_1_50_sspa%3Fkeywords%3Dguitar%26qid%3D1691437267%26sr%3D8-50-spons%26sp_csd%3Dd2lkZ2V0TmFtZT1zcF9hdGZfbmV4dA%26psc%3D1\n",
      "https://www.amazon.in/sspa/click?ie=UTF8&spc=MTo2NDYzODAwNjg5OTIwMDc5OjE2OTE0MzcyNjc6c3BfYXRmX25leHQ6MjAwNzgzMzY4ODU4OTg6OjA6Og&url=%2FFestra-Trussrod-Acoustic-Strings-Classic%2Fdp%2FB09VLDCT9H%2Fref%3Dsr_1_51_sspa%3Fkeywords%3Dguitar%26qid%3D1691437267%26sr%3D8-51-spons%26sp_csd%3Dd2lkZ2V0TmFtZT1zcF9hdGZfbmV4dA%26psc%3D1\n",
      "https://www.amazon.in/sspa/click?ie=UTF8&spc=MTo2NDYzODAwNjg5OTIwMDc5OjE2OTE0MzcyNjc6c3BfYXRmX25leHQ6MjAwNzgzMzY4ODUxOTg6OjA6Og&url=%2FBlueberry-Acoustic-Inbuilt-Strings-Classic%2Fdp%2FB09VLF8B8G%2Fref%3Dsr_1_52_sspa%3Fkeywords%3Dguitar%26qid%3D1691437267%26sr%3D8-52-spons%26sp_csd%3Dd2lkZ2V0TmFtZT1zcF9hdGZfbmV4dA%26psc%3D1\n",
      "https://www.amazon.in/FX280-acoustic-Dreadnought-Tobacco-Sunburst/dp/B09HR7BXGW/ref=sr_1_53?keywords=guitar&qid=1691437267&sr=8-53\n",
      "https://www.amazon.in/Ultimate-Concert-Cutaway-Acoustic-Bajaao/dp/B08WHWKKV5/ref=sr_1_54?keywords=guitar&qid=1691437267&sr=8-54\n",
      "https://www.amazon.in/Yamaha-FS100C-Acoustic-Guitar-Natural/dp/B08Z3DVN8N/ref=sr_1_55?keywords=guitar&qid=1691437267&sr=8-55\n",
      "https://www.amazon.in/Fender-FA-345CE-Auditorium-Bodied-Acoustic/dp/B07BCN55VP/ref=sr_1_56?keywords=guitar&qid=1691437267&sr=8-56\n",
      "https://www.amazon.in/Yamaha-Acoustic-Guitar-Dreadnought-Plectrums/dp/B094H8NGBM/ref=sr_1_57?keywords=guitar&qid=1691437267&sr=8-57\n",
      "https://www.amazon.in/Acoustic-Cutaway-TBLS-Strings-Sunburst/dp/B098BCCY75/ref=sr_1_58?keywords=guitar&qid=1691437267&sr=8-58\n",
      "https://www.amazon.in/Henrix-Handed-Cutway-Acoustic-Polishing/dp/B08R3DKYGM/ref=sr_1_59?keywords=guitar&qid=1691437267&sr=8-59\n",
      "https://www.amazon.in/Rosewood-Fretboard-Acoustic-Strings-K-Retail/dp/B07KLG8C4P/ref=sr_1_60?keywords=guitar&qid=1691437267&sr=8-60\n",
      "https://www.amazon.in/Fender-Dread-String-Acoustic-Guitar/dp/B07RM4B5LJ/ref=sr_1_61?keywords=guitar&qid=1691437267&sr=8-61\n",
      "https://www.amazon.in/Kadence-Professional-Guitar-Years-Strings/dp/B07YZK5B2Z/ref=sr_1_62?keywords=guitar&qid=1691437267&sr=8-62\n",
      "https://www.amazon.in/Acoustic-F280-Dreadnought-Plectrums-Natural/dp/B092TPXZRN/ref=sr_1_63?keywords=guitar&qid=1691437267&sr=8-63\n",
      "https://www.amazon.in/Carlton-S3-RED-6-String-Electric-Guitar/dp/B0C47373P5/ref=sr_1_64?keywords=guitar&qid=1691437267&sr=8-64\n",
      "https://www.amazon.in/Acoustic-plectrums-stability-age-groups-Electric/dp/B09YH8JRZH/ref=sr_1_65?keywords=guitar&qid=1691437267&sr=8-65\n",
      "https://www.amazon.in/Yamaha-APX600-NA-Acoustic-Electric-Natural/dp/B078WYGGHS/ref=sr_1_66?keywords=guitar&qid=1691437267&sr=8-66\n",
      "https://www.amazon.in/Juarez-Acoustic-Cutaway-BK-Strings/dp/B076T3RHMG/ref=sr_1_67?keywords=guitar&qid=1691437267&sr=8-67\n",
      "https://www.amazon.in/Yamaha-F280-Acoustic-Dreadnought-Plectrum/dp/B08VN2V5V3/ref=sr_1_68?keywords=guitar&qid=1691437267&sr=8-68\n",
      "https://www.amazon.in/sspa/click?ie=UTF8&spc=MTo2NDYzODAwNjg5OTIwMDc5OjE2OTE0MzcyNjc6c3BfbXRmOjIwMDg4NDY1ODU5NDA0OjowOjo&url=%2FHenrix-Cutaway-Acoustic-Guitar-Action%2Fdp%2FB097NCQFFM%2Fref%3Dsr_1_69_sspa%3Fkeywords%3Dguitar%26qid%3D1691437267%26sr%3D8-69-spons%26sp_csd%3Dd2lkZ2V0TmFtZT1zcF9tdGY%26psc%3D1\n",
      "https://www.amazon.in/sspa/click?ie=UTF8&spc=MTo2NDYzODAwNjg5OTIwMDc5OjE2OTE0MzcyNjc6c3BfbXRmOjMwMDAyOTM0Mzg3NjYzMjo6MDo6&url=%2FNM-Signature-Rosewood-Fretboard-Acoustic%2Fdp%2FB09X659PN7%2Fref%3Dsr_1_70_sspa%3Fkeywords%3Dguitar%26qid%3D1691437267%26sr%3D8-70-spons%26sp_csd%3Dd2lkZ2V0TmFtZT1zcF9tdGY%26psc%3D1\n",
      "https://www.amazon.in/sspa/click?ie=UTF8&spc=MTo2NDYzODAwNjg5OTIwMDc5OjE2OTE0MzcyNjc6c3BfbXRmOjIwMDc4MzM2ODg4ODk4OjowOjo&url=%2FBlueberry-38C-Acoustic-Guitar-Strings%2Fdp%2FB08KLMV4XX%2Fref%3Dsr_1_71_sspa%3Fkeywords%3Dguitar%26qid%3D1691437267%26sr%3D8-71-spons%26sp_csd%3Dd2lkZ2V0TmFtZT1zcF9tdGY%26psc%3D1\n",
      "https://www.amazon.in/sspa/click?ie=UTF8&spc=MTo2NDYzODAwNjg5OTIwMDc5OjE2OTE0MzcyNjc6c3BfbXRmOjIwMTI3OTkwMDI5Mzk4OjowOjo&url=%2FBlueberry-VIP-341-Natural-Acoustic%2Fdp%2FB0BVVJ8VG5%2Fref%3Dsr_1_72_sspa%3Fkeywords%3Dguitar%26qid%3D1691437267%26sr%3D8-72-spons%26sp_csd%3Dd2lkZ2V0TmFtZT1zcF9tdGY%26psc%3D1\n",
      "https://www.amazon.in/Yamaha-F310-Acoustic-Guitar-Natural/dp/B08Z3C1GRM/ref=sr_1_73?keywords=guitar&qid=1691437267&sr=8-73\n",
      "https://www.amazon.in/Medellin-Acoustic-Guitar-learning-Strings/dp/B0CCNS2NDX/ref=sr_1_74?keywords=guitar&qid=1691437267&sr=8-74\n",
      "https://www.amazon.in/Blueberry-VIP-401-40Inch-TrussRod-Acoustic/dp/B0BVYXF6X6/ref=sr_1_75?keywords=guitar&qid=1691437267&sr=8-75\n",
      "https://www.amazon.in/Medellin-Acoustic-Guitar-learning-Strings/dp/B0CCNSN6S4/ref=sr_1_76?keywords=guitar&qid=1691437267&sr=8-76\n",
      "https://www.amazon.in/Intern-INT-38C-RD-G-Guitar-Kit-Red/dp/B07K959RKX/ref=sr_1_77?keywords=guitar&qid=1691437267&sr=8-77\n",
      "https://www.amazon.in/JRZ38C-Strings-Acoustic-Cutaway-Mahogany/dp/B071JM8C6T/ref=sr_1_78?keywords=guitar&qid=1691437267&sr=8-78\n",
      "https://www.amazon.in/Medellin-Acoustic-Guitar-Carbon-Learning/dp/B09MSGMQ3Y/ref=sr_1_79?keywords=guitar&qid=1691437267&sr=8-79\n",
      "https://www.amazon.in/Acoustic-Pick-up-stability-professional-amplificaiton/dp/B09YH8YQR1/ref=sr_1_80?keywords=guitar&qid=1691437267&sr=8-80\n",
      "https://www.amazon.in/S7-CGM-6-String-Electric-Champagne-Metallic/dp/B0CB6J1GYY/ref=sr_1_81?keywords=guitar&qid=1691437267&sr=8-81\n",
      "https://www.amazon.in/Blueberry-VIP-341-Natural-Acoustic/dp/B0BVVJ8VG5/ref=sr_1_82?keywords=guitar&qid=1691437267&sr=8-82\n",
      "https://www.amazon.in/Martin-Smith-W-101-RD-PK-Acoustic-Guitar/dp/B01EUWC5HE/ref=sr_1_83?keywords=guitar&qid=1691437267&sr=8-83\n",
      "https://www.amazon.in/Yamaha-Acoustic-Guitar-Tobacco-Sunburst/dp/B08Z35ZR9Y/ref=sr_1_84?keywords=guitar&qid=1691437267&sr=8-84\n",
      "https://www.amazon.in/JRZ38C-VTS-Strings-Acoustic-Cutaway/dp/B072MFLQC9/ref=sr_1_85?keywords=guitar&qid=1691437267&sr=8-85\n",
      "https://www.amazon.in/Carlton-Rosewood-Fretboard-Acoustic-K-Retail/dp/B07KK8P9VB/ref=sr_1_86?keywords=guitar&qid=1691437267&sr=8-86\n",
      "https://www.amazon.in/Intern-INT-38C-Acoustic-Guitar-Natural/dp/B073B4D22T/ref=sr_1_87?keywords=guitar&qid=1691437267&sr=8-87\n",
      "https://www.amazon.in/Acoustic-Beginner-Acustica-Guitarra-Packaging/dp/B09JNTBFMC/ref=sr_1_88?keywords=guitar&qid=1691437267&sr=8-88\n",
      "https://www.amazon.in/Epiphone-EEDVVBNH1-Acoustic-Electric-Guitar/dp/B00ADVITGS/ref=sr_1_89?keywords=guitar&qid=1691437267&sr=8-89\n",
      "https://www.amazon.in/Sire-V5-Alder-4-VWH-4-String-Vintage/dp/B0C46YQ9V6/ref=sr_1_90?keywords=guitar&qid=1691437267&sr=8-90\n",
      "https://www.amazon.in/Sire-Carlton-6-String-Electric-Transparent/dp/B0B4F37NDN/ref=sr_1_91?keywords=guitar&qid=1691437267&sr=8-91\n",
      "https://www.amazon.in/Juarez-Acoustic-Guitar-Cutaway-JRZ38CT/dp/B01N3TTYJQ/ref=sr_1_92?keywords=guitar&qid=1691437267&sr=8-92\n",
      "https://www.amazon.in/Kadence-Frontier-Acoustic-Guitar-Equalizer/dp/B01HRIHJWY/ref=sr_1_93?keywords=guitar&qid=1691437267&sr=8-93\n",
      "https://www.amazon.in/Medellin-Acoustic-Guitar-Purple-Learning/dp/B09MSGPQ43/ref=sr_1_94?keywords=guitar&qid=1691437267&sr=8-94\n",
      "https://www.amazon.in/Fender-0970310321-PD-220E-Dreadnought-Acoustic/dp/B09RWK9XKJ/ref=sr_1_95?keywords=guitar&qid=1691437267&sr=8-95\n",
      "https://www.amazon.in/Dreadnought-Acoustic-Gig-Bag-Strings-Polishing/dp/B0BJJRJVHY/ref=sr_1_96?keywords=guitar&qid=1691437267&sr=8-96\n",
      "https://www.amazon.in/Fender-CD-60SCE-Electro-Acoustic-Guitar-black/dp/B09BVZ57LM/ref=sr_1_97?keywords=guitar&qid=1691437267&sr=8-97\n",
      "https://www.amazon.in/Epiphone-Studio-Electric-Inspired-Smokehouse/dp/B085HB8P67/ref=sr_1_98?keywords=guitar&qid=1691437267&sr=8-98\n",
      "https://www.amazon.in/Fender-FA-125CE-Dreadnought-Fingerboard-Natural/dp/B07R16NMKH/ref=sr_1_99?keywords=guitar&qid=1691437267&sr=8-99\n",
      "https://www.amazon.in/215-Rosewood-Fretboard-Acoustic-Strings/dp/B0C5458VCL/ref=sr_1_100?keywords=guitar&qid=1691437267&sr=8-100\n",
      "https://www.amazon.in/Belear-Spruce-Cutaway-Acoustic-Guitar/dp/B0BJBRVTJB/ref=sr_1_101?keywords=guitar&qid=1691437267&sr=8-101\n",
      "https://www.amazon.in/Epiphone-String-Electric-Inspired-Metallic/dp/B08BH48B2Y/ref=sr_1_102?keywords=guitar&qid=1691437267&sr=8-102\n",
      "https://www.amazon.in/Intern-INT-38C-SB-G-Guitar-Kit-Sunburst/dp/B07K8WLPLH/ref=sr_1_103?keywords=guitar&qid=1691437267&sr=8-103\n",
      "https://www.amazon.in/YAMAHA-FS80C-CONCERT-CUTAWAY-GUITAR/dp/B08WBBVMVJ/ref=sr_1_104?keywords=guitar&qid=1691437267&sr=8-104\n",
      "https://www.amazon.in/sspa/click?ie=UTF8&spc=MTo2NDYzODAwNjg5OTIwMDc5OjE2OTE0MzcyNjc6c3BfYnRmOjIwMDc4MzM2ODg3NDk4OjowOjo&url=%2FBlueberry-B-D38-Acoustic-Inbuilt-Strings%2Fdp%2FB07PHYZZP1%2Fref%3Dsr_1_105_sspa%3Fkeywords%3Dguitar%26qid%3D1691437267%26sr%3D8-105-spons%26sp_csd%3Dd2lkZ2V0TmFtZT1zcF9idGY%26psc%3D1\n",
      "https://www.amazon.in/sspa/click?ie=UTF8&spc=MTo2NDYzODAwNjg5OTIwMDc5OjE2OTE0MzcyNjc6c3BfYnRmOjIwMDc4MzM2ODg5MDk4OjowOjo&url=%2FBlueberry-Acoustic-Guitar-Strings-Picks%2Fdp%2FB08L7NQB57%2Fref%3Dsr_1_106_sspa%3Fkeywords%3Dguitar%26qid%3D1691437267%26sr%3D8-106-spons%26sp_csd%3Dd2lkZ2V0TmFtZT1zcF9idGY%26psc%3D1\n"
     ]
    },
    {
     "name": "stdout",
     "output_type": "stream",
     "text": [
      "https://www.amazon.in/sspa/click?ie=UTF8&spc=MTo2NDYzODAwNjg5OTIwMDc5OjE2OTE0MzcyNjc6c3BfYnRmOjIwMTUyMjMzNjg5Nzk4OjowOjo&url=%2FKadence-Frontier-Acoustic-Equalizer-Strings%2Fdp%2FB01HRIHH9E%2Fref%3Dsr_1_107_sspa%3Fkeywords%3Dguitar%26qid%3D1691437267%26sr%3D8-107-spons%26sp_csd%3Dd2lkZ2V0TmFtZT1zcF9idGY%26psc%3D1\n",
      "https://www.amazon.in/sspa/click?ie=UTF8&spc=MTo2NDYzODAwNjg5OTIwMDc5OjE2OTE0MzcyNjc6c3BfYnRmOjIwMTUyMjMzNjg5OTk4OjowOjo&url=%2FKadence-Frontier-Acoustic-Foldable-Strings%2Fdp%2FB01CJJGEVS%2Fref%3Dsr_1_108_sspa%3Fkeywords%3Dguitar%26qid%3D1691437267%26sr%3D8-108-spons%26sp_csd%3Dd2lkZ2V0TmFtZT1zcF9idGY%26psc%3D1\n"
     ]
    }
   ],
   "source": [
    "for i in url:\n",
    "    print(i.get_attribute('href'))"
   ]
  },
  {
   "cell_type": "code",
   "execution_count": null,
   "id": "ac4c3b10",
   "metadata": {},
   "outputs": [],
   "source": []
  },
  {
   "cell_type": "code",
   "execution_count": 9,
   "id": "a0989d6b",
   "metadata": {},
   "outputs": [],
   "source": [
    "product_urls=[]\n",
    "start=0\n",
    "end=3\n",
    "for page in range(start,end):\n",
    "    url=driver.find_elements(By.XPATH, '//a[@class=\"a-link-normal s-underline-text s-underline-link-text s-link-style a-text-normal\"]')\n",
    "    for i in url:\n",
    "        product_urls.append(i.get_attribute(\"href\"))\n",
    "    next_button=driver.find_element(By.XPATH,'//a[@class=\"s-pagination-item s-pagination-next s-pagination-button s-pagination-separator\"]')\n",
    "    next_button.click()\n",
    "    time.sleep(3)"
   ]
  },
  {
   "cell_type": "code",
   "execution_count": 10,
   "id": "2272254b",
   "metadata": {},
   "outputs": [],
   "source": [
    "brand_name = []\n",
    "product_name = []\n",
    "ratings = []\n",
    "num_ratings = []\n",
    "prices = []\n",
    "exchange = []\n",
    "exp_delivery = []\n",
    "availability = []\n",
    "other_details = []\n"
   ]
  },
  {
   "cell_type": "code",
   "execution_count": 42,
   "id": "e5abf023",
   "metadata": {},
   "outputs": [],
   "source": [
    "for url in product_urls:\n",
    "    driver.get(url)\n",
    "    time.sleep(3)\n",
    "    try:\n",
    "        brand=driver.find_element(By.XPATH, '//span[@class=\"a-size-base po-break-word\"]')\n",
    "        brand_name.append(brand.text)\n",
    "    except NoSuchElementException:\n",
    "        brand_name.append('-')\n",
    "        "
   ]
  },
  {
   "cell_type": "code",
   "execution_count": 43,
   "id": "fc04bee7",
   "metadata": {},
   "outputs": [
    {
     "data": {
      "text/plain": [
       "['Medellin',\n",
       " 'Kadence',\n",
       " 'Medellin',\n",
       " 'Medellin',\n",
       " 'JUAREZ',\n",
       " 'Intern',\n",
       " 'JUAREZ',\n",
       " 'Kadence',\n",
       " 'YAMAHA',\n",
       " 'JUAREZ',\n",
       " 'Henrix',\n",
       " 'Kadence',\n",
       " 'YAMAHA',\n",
       " 'Intern',\n",
       " 'Medellin',\n",
       " 'Medellin',\n",
       " 'Medellin',\n",
       " 'Kadence',\n",
       " 'VAULT',\n",
       " 'Intern',\n",
       " 'JUAREZ',\n",
       " 'YAMAHA',\n",
       " 'Kadence',\n",
       " 'Ibanez',\n",
       " 'JUAREZ',\n",
       " 'Kadence',\n",
       " 'Kadence',\n",
       " 'musicalworks.in',\n",
       " 'VAULT',\n",
       " 'Henrix',\n",
       " 'VAULT',\n",
       " 'JUAREZ',\n",
       " 'Intern',\n",
       " 'Kadence',\n",
       " 'REVEL',\n",
       " 'JUAREZ',\n",
       " 'Intern',\n",
       " 'Kadence',\n",
       " 'Intern',\n",
       " 'Kadence',\n",
       " 'Intern',\n",
       " 'Intern',\n",
       " 'Intern',\n",
       " 'Medellin',\n",
       " 'blueberry',\n",
       " 'JUAREZ',\n",
       " 'Intern',\n",
       " 'YAMAHA',\n",
       " 'Kadence',\n",
       " 'Intern',\n",
       " 'Intern',\n",
       " 'medellin',\n",
       " 'YAMAHA',\n",
       " 'JUAREZ',\n",
       " 'Kadence',\n",
       " 'Kadence',\n",
       " 'YAMAHA',\n",
       " 'Intern',\n",
       " 'Intern',\n",
       " 'Intern',\n",
       " 'HOVNER',\n",
       " 'VAULT',\n",
       " 'NM Signature',\n",
       " 'Kadence',\n",
       " 'VAULT',\n",
       " 'Cort',\n",
       " 'Kadence',\n",
       " 'VAULT',\n",
       " 'Guitar Bro',\n",
       " 'Cort',\n",
       " \"Gibz's guitar\",\n",
       " 'Donner',\n",
       " 'Fender',\n",
       " 'Intern',\n",
       " 'Medellin',\n",
       " 'JUAREZ',\n",
       " 'YAMAHA',\n",
       " 'blueberry',\n",
       " 'Fender',\n",
       " 'Intern',\n",
       " 'JUAREZ',\n",
       " 'JUAREZ',\n",
       " 'blueberry',\n",
       " 'YAMAHA',\n",
       " 'JUAREZ',\n",
       " 'YAMAHA',\n",
       " 'enya',\n",
       " 'DEVICE OF URBAN INFOTECH',\n",
       " 'Kaps',\n",
       " 'Fender',\n",
       " 'YAMAHA',\n",
       " 'Fender',\n",
       " 'Martin Smith',\n",
       " 'Intern',\n",
       " 'blueberry',\n",
       " 'YAMAHA',\n",
       " 'Fender',\n",
       " 'YAMAHA',\n",
       " 'YAMAHA',\n",
       " 'nat',\n",
       " 'YAMAHA',\n",
       " 'blueberry',\n",
       " 'JUAREZ',\n",
       " 'Medellin',\n",
       " 'Intern',\n",
       " 'Medellin',\n",
       " 'blueberry',\n",
       " 'Intern',\n",
       " 'JUAREZ',\n",
       " 'JUAREZ',\n",
       " 'Henrix',\n",
       " 'Ibanez',\n",
       " 'Epiphone',\n",
       " 'Medellin',\n",
       " 'JUAREZ',\n",
       " 'GIVSON',\n",
       " 'YAMAHA',\n",
       " 'VAULT',\n",
       " 'JUAREZ',\n",
       " 'blueberry',\n",
       " 'VAULT',\n",
       " 'Guitar Bro',\n",
       " 'Cort',\n",
       " 'VAULT',\n",
       " 'HOVNER',\n",
       " 'Intern',\n",
       " 'Kadence',\n",
       " 'YAMAHA',\n",
       " 'Belear',\n",
       " 'HOVNER',\n",
       " 'YAMAHA',\n",
       " 'HOVNER',\n",
       " 'Tanglewood',\n",
       " 'Kadence',\n",
       " 'JUAREZ',\n",
       " 'Medellin',\n",
       " 'blueberry',\n",
       " 'YAMAHA',\n",
       " 'YAMAHA',\n",
       " 'YAMAHA',\n",
       " 'blueberry',\n",
       " 'Belear',\n",
       " 'Fender',\n",
       " 'Kadence',\n",
       " 'blueberry',\n",
       " 'blueberry',\n",
       " 'VAULT',\n",
       " 'KETOSTICS',\n",
       " 'JUAREZ',\n",
       " 'C M enterprise',\n",
       " 'Pluto',\n",
       " 'blueberry',\n",
       " 'Ibanez',\n",
       " 'Pluto',\n",
       " 'Traveler Guitar',\n",
       " 'Belear',\n",
       " 'Fender',\n",
       " 'VAULT',\n",
       " 'YAMAHA',\n",
       " 'JUAREZ',\n",
       " 'Kadence',\n",
       " 'YAMAHA',\n",
       " 'YAMAHA',\n",
       " 'HOVNER',\n",
       " 'CF MARTIN',\n",
       " 'Ibanez',\n",
       " 'JUAREZ',\n",
       " 'Kadence',\n",
       " 'blueberry',\n",
       " 'YAMAHA',\n",
       " 'YAMAHA']"
      ]
     },
     "execution_count": 43,
     "metadata": {},
     "output_type": "execute_result"
    }
   ],
   "source": [
    "brand_name"
   ]
  },
  {
   "cell_type": "code",
   "execution_count": 44,
   "id": "8d74de6d",
   "metadata": {},
   "outputs": [
    {
     "data": {
      "text/plain": [
       "171"
      ]
     },
     "execution_count": 44,
     "metadata": {},
     "output_type": "execute_result"
    }
   ],
   "source": [
    "len(brand_name)"
   ]
  },
  {
   "cell_type": "code",
   "execution_count": null,
   "id": "10d330d8",
   "metadata": {},
   "outputs": [],
   "source": [
    "for url in product_urls:\n",
    "    driver.get(url)\n",
    "    time.sleep(3)\n",
    "    try:\n",
    "        brand=driver.find_element(By.XPATH, '//span[@class=\"a-size-base po-break-word\"]')\n",
    "        brand_name.append(brand.text)\n",
    "    except NoSuchElementException:\n",
    "        brand_name.append('-')\n",
    "    try:\n",
    "        product=driver.find_element(By.XPATH,'//span[@class=\"a-size-large product-title-word-break\"]')\n",
    "        product_name.append(product.text)\n",
    "    except NoSuchElementException:\n",
    "        product_name.append('-')\n",
    "    try:\n",
    "        price=driver.find_element(By.XPATH, '//span[@class=\"a-price-whole\"]')\n",
    "        prices.append(price.text)\n",
    "    except NoSuchElementException:\n",
    "        prices.append('-')\n",
    "    try:\n",
    "        rating = driver.find_element(By.XPATH, '//i[@class=\"a-icon a-icon-star a-star-4 cm-cr-review-stars-spacing-big\"]')\n",
    "        ratings.append(rating.text)\n",
    "    except NoSuchElementException:\n",
    "        ratings.append('-')\n",
    "    try:\n",
    "        delivery=driver.find_element(By.XPATH,'//span[@class=\"a-text-bold\"]')\n",
    "        exp_delivery.append(delivery.text)\n",
    "    except NoSuchElementException:\n",
    "        exp_delivery.append('-')\n",
    "    try:\n",
    "        avail=driver.find_element(By.XPATH, '//span[@class=\"a-size-medium a-color-success\"]')\n",
    "        availability.append(avail.text)\n",
    "    except NoSuchElementException:\n",
    "        availability.append('-')     \n",
    "    \n",
    "   "
   ]
  },
  {
   "cell_type": "code",
   "execution_count": null,
   "id": "ce53adfa",
   "metadata": {},
   "outputs": [],
   "source": [
    "driver = webdriver.Chrome()\n",
    "driver.get(\"https://www.amazon.in\")\n",
    "\n",
    "try:\n",
    "    element=driver.find_element(By.XPATH, '//a[@class=\"a-link-normal s-underline-text s-underline-link-text s-link-style a-text-normal\"]')\n",
    "    print(element)\n",
    "except StaleElementReferenceException as e:\n",
    "    print(\"Exception Raised:\", e)\n",
    "    print (\"Refreshing the page||\")\n",
    "    driver.get(\"https://www.amazon.in\")\n",
    "except StaleElementReferenceException as e:\n",
    "    WebDriverWait(driver, delay), until (EC.presence_of_element_located(By.CLASS_NAME, \"a-link-normal s-underline-text s-underline-link-text s-link-style a-text-normal\"))\n",
    "    element=driver.find_element(By.XPATH,'//a[@class=\"a-link-normal s-underline-text s-underline-link-text s-link-style a-text-normal\"]')\n",
    "    print(element)\n",
    "    "
   ]
  },
  {
   "cell_type": "code",
   "execution_count": 21,
   "id": "be3594bf",
   "metadata": {},
   "outputs": [
    {
     "data": {
      "text/plain": [
       "(240, 260, 168, 264, 244, 180)"
      ]
     },
     "execution_count": 21,
     "metadata": {},
     "output_type": "execute_result"
    }
   ],
   "source": [
    "len(Brand),len(Price),len(Rating),len(Discount),len(Expected_delivery),len(URLS)"
   ]
  },
  {
   "cell_type": "markdown",
   "id": "d99d485d",
   "metadata": {},
   "source": [
    "# Write a python program to access the search bar and search button on images.google.com and scrape 10\n",
    "images each for keywords ‘fruits’, ‘cars’ and ‘Machine Learning’, ‘Guitar’, ‘Cakes’."
   ]
  },
  {
   "cell_type": "code",
   "execution_count": 5,
   "id": "688d177d",
   "metadata": {},
   "outputs": [],
   "source": [
    "driver.get(\"http://images.google.com/\")"
   ]
  },
  {
   "cell_type": "code",
   "execution_count": 13,
   "id": "18c6aaff",
   "metadata": {},
   "outputs": [],
   "source": [
    "search=driver.find_element(By.XPATH, '/html/body/div[1]/div[3]/form/div[1]/div[1]/div[1]/div/div[2]/textarea')\n",
    "search.send_keys(\"cakes\")"
   ]
  },
  {
   "cell_type": "code",
   "execution_count": 15,
   "id": "c69c90b3",
   "metadata": {},
   "outputs": [],
   "source": [
    "search_button=driver.find_element(By.CLASS_NAME, \"wM6W7d\")\n",
    "search_button.click()"
   ]
  },
  {
   "cell_type": "code",
   "execution_count": 16,
   "id": "0dc5fa02",
   "metadata": {},
   "outputs": [],
   "source": [
    "for _ in range(20):\n",
    "    driver.execute_script(\"window.scrollBy(0,100)\")\n",
    "        "
   ]
  },
  {
   "cell_type": "code",
   "execution_count": 32,
   "id": "4f85ad2a",
   "metadata": {},
   "outputs": [],
   "source": [
    "urls=[]\n",
    "data=[]"
   ]
  },
  {
   "cell_type": "code",
   "execution_count": 35,
   "id": "37daf2dc",
   "metadata": {},
   "outputs": [
    {
     "ename": "IndentationError",
     "evalue": "unexpected indent (4063135712.py, line 8)",
     "output_type": "error",
     "traceback": [
      "\u001b[1;36m  File \u001b[1;32m\"C:\\Users\\Admin\\AppData\\Local\\Temp\\ipykernel_10108\\4063135712.py\"\u001b[1;36m, line \u001b[1;32m8\u001b[0m\n\u001b[1;33m    for i in img_url[:100]:\u001b[0m\n\u001b[1;37m    ^\u001b[0m\n\u001b[1;31mIndentationError\u001b[0m\u001b[1;31m:\u001b[0m unexpected indent\n"
     ]
    }
   ],
   "source": [
    "img_url=[]\n",
    "images=driver.find_elements(By.XPATH, '//img[@class=\"rg_i Q4LuWd\"]')\n",
    "for image in images:\n",
    "    source=image.get_attribute('src')\n",
    "    if source is not None:\n",
    "        if (source[0:4]=='http'):\n",
    "            img_url.append(source)"
   ]
  },
  {
   "cell_type": "code",
   "execution_count": 31,
   "id": "1f8f9817",
   "metadata": {},
   "outputs": [
    {
     "name": "stdout",
     "output_type": "stream",
     "text": [
      "0\n",
      "1\n",
      "2\n",
      "3\n",
      "4\n",
      "5\n",
      "6\n",
      "7\n",
      "8\n",
      "9\n",
      "10\n"
     ]
    }
   ],
   "source": [
    "for i in range(len(img_urls)):\n",
    "    if i >10:\n",
    "        breakby.XPATH,\n",
    "    print(\"Downloading {0) of {1} images\".format(i, 10)) \n",
    "    response = requests.get(img_urls[i])\n",
    "    file=open(r\"C:\\users\\Admin\\Desktop\"+str(i)+\".jpg\", \"wb\"\n",
    "    file.write(response.content)"
   ]
  },
  {
   "cell_type": "markdown",
   "id": "fc2abfd2",
   "metadata": {},
   "source": [
    "# 8. Write a program to extract at least 500 Comments, Comment upvote and time when comment was posted\n",
    "from any YouTube Video."
   ]
  },
  {
   "cell_type": "code",
   "execution_count": 6,
   "id": "f473a889",
   "metadata": {},
   "outputs": [],
   "source": [
    "driver.get(\"http://images.google.com/\")"
   ]
  },
  {
   "cell_type": "code",
   "execution_count": 7,
   "id": "dbc9dcdc",
   "metadata": {},
   "outputs": [],
   "source": [
    "element=driver.find_element(By.XPATH, '/html/body/div[1]/div[3]/form/div[1]/div[1]/div[1]/div/div[2]/textarea')\n",
    "element.send_keys(\"hai tamanna hame\")"
   ]
  },
  {
   "cell_type": "code",
   "execution_count": 15,
   "id": "fdfd3d7f",
   "metadata": {},
   "outputs": [],
   "source": [
    "for _ in range(1000):\n",
    "    driver.execute_script(\"window.scrollBy(0,10000)\")"
   ]
  },
  {
   "cell_type": "code",
   "execution_count": null,
   "id": "d26ba72e",
   "metadata": {},
   "outputs": [],
   "source": []
  },
  {
   "cell_type": "code",
   "execution_count": 20,
   "id": "2e3eb459",
   "metadata": {},
   "outputs": [],
   "source": [
    "comments = []\n",
    "Time = []\n",
    "Likes = []\n",
    "\n",
    "cm = driver.find_elements(By.XPATH, '//yt-attributed-string[@class=\"style-scope yt-formatted-string\"]')\n",
    "for i in cm:\n",
    "    if i.text is None:\n",
    "        comments.append(\"--\")\n",
    "    else:\n",
    "        comments.append(i.text)\n",
    "time.sleep(4)\n",
    "\n",
    "\n",
    "tm = driver.find_elements(By.XPATH, '//a[@class=\"yt-simple-endpoint style-scope yt-formatted-string\"]')\n",
    "for i in tm:\n",
    "    Time.append(i.text)\n",
    "\n",
    "like = driver.find_elements(By.XPATH, '//div[@class=\"yt-spec-touch-feedback-shape__fill\"]')\n",
    "for i in like:\n",
    "    Likes.append(i.text)\n",
    "   \n",
    "    "
   ]
  },
  {
   "cell_type": "code",
   "execution_count": 21,
   "id": "9b65238f",
   "metadata": {},
   "outputs": [
    {
     "data": {
      "text/plain": [
       "0"
      ]
     },
     "execution_count": 21,
     "metadata": {},
     "output_type": "execute_result"
    }
   ],
   "source": [
    "len(Time)"
   ]
  },
  {
   "cell_type": "code",
   "execution_count": 19,
   "id": "09da25b1",
   "metadata": {},
   "outputs": [
    {
     "data": {
      "text/plain": [
       "0"
      ]
     },
     "execution_count": 19,
     "metadata": {},
     "output_type": "execute_result"
    }
   ],
   "source": [
    "len(comments)"
   ]
  },
  {
   "cell_type": "code",
   "execution_count": null,
   "id": "a3bfd86a",
   "metadata": {},
   "outputs": [],
   "source": [
    "df=pd.DataFrame({'Comments':comments, 'Time':time, 'Likes': Likes})\n",
    "df"
   ]
  },
  {
   "cell_type": "code",
   "execution_count": 11,
   "id": "98904ca3",
   "metadata": {},
   "outputs": [],
   "source": []
  },
  {
   "cell_type": "markdown",
   "id": "787601c1",
   "metadata": {},
   "source": [
    "# Write a python program to scrape the details for all billionaires from www.forbes.com. Details to be scrapped:\n",
    "“Rank”, “Name”, “Net worth”, “Age”, “Citizenship”, “Source”, “Industry”."
   ]
  },
  {
   "cell_type": "code",
   "execution_count": 58,
   "id": "a8678910",
   "metadata": {},
   "outputs": [],
   "source": [
    "driver=webdriver.Chrome()\n",
    "driver.get(\"https://www.forbes.com\")"
   ]
  },
  {
   "cell_type": "code",
   "execution_count": 6,
   "id": "8545ee16",
   "metadata": {},
   "outputs": [
    {
     "ename": "NoSuchElementException",
     "evalue": "Message: no such element: Unable to locate element: {\"method\":\"xpath\",\"selector\":\"/html/body/div[1]/header/nav/div[1]/div[1]/div/div/svg\"}\n  (Session info: chrome=115.0.5790.170); For documentation on this error, please visit: https://www.selenium.dev/documentation/webdriver/troubleshooting/errors#no-such-element-exception\nStacktrace:\nBacktrace:\n\tGetHandleVerifier [0x0118A813+48355]\n\t(No symbol) [0x0111C4B1]\n\t(No symbol) [0x01025358]\n\t(No symbol) [0x010509A5]\n\t(No symbol) [0x01050B3B]\n\t(No symbol) [0x0107E232]\n\t(No symbol) [0x0106A784]\n\t(No symbol) [0x0107C922]\n\t(No symbol) [0x0106A536]\n\t(No symbol) [0x010482DC]\n\t(No symbol) [0x010493DD]\n\tGetHandleVerifier [0x013EAABD+2539405]\n\tGetHandleVerifier [0x0142A78F+2800735]\n\tGetHandleVerifier [0x0142456C+2775612]\n\tGetHandleVerifier [0x012151E0+616112]\n\t(No symbol) [0x01125F8C]\n\t(No symbol) [0x01122328]\n\t(No symbol) [0x0112240B]\n\t(No symbol) [0x01114FF7]\n\tBaseThreadInitThunk [0x75B300C9+25]\n\tRtlGetAppContainerNamedObjectPath [0x77507B4E+286]\n\tRtlGetAppContainerNamedObjectPath [0x77507B1E+238]\n",
     "output_type": "error",
     "traceback": [
      "\u001b[1;31m---------------------------------------------------------------------------\u001b[0m",
      "\u001b[1;31mNoSuchElementException\u001b[0m                    Traceback (most recent call last)",
      "\u001b[1;32m~\\AppData\\Local\\Temp\\ipykernel_15220\\426922467.py\u001b[0m in \u001b[0;36m<module>\u001b[1;34m\u001b[0m\n\u001b[1;32m----> 1\u001b[1;33m \u001b[0msearch\u001b[0m\u001b[1;33m=\u001b[0m\u001b[0mdriver\u001b[0m\u001b[1;33m.\u001b[0m\u001b[0mfind_element\u001b[0m\u001b[1;33m(\u001b[0m\u001b[0mBy\u001b[0m\u001b[1;33m.\u001b[0m\u001b[0mXPATH\u001b[0m\u001b[1;33m,\u001b[0m \u001b[1;34m'/html/body/div[1]/header/nav/div[1]/div[1]/div/div/svg'\u001b[0m\u001b[1;33m)\u001b[0m\u001b[1;33m\u001b[0m\u001b[1;33m\u001b[0m\u001b[0m\n\u001b[0m\u001b[0;32m      2\u001b[0m \u001b[0msearch\u001b[0m\u001b[1;33m.\u001b[0m\u001b[0mclick\u001b[0m\u001b[1;33m(\u001b[0m\u001b[1;33m)\u001b[0m\u001b[1;33m\u001b[0m\u001b[1;33m\u001b[0m\u001b[0m\n",
      "\u001b[1;32m~\\anaconda3\\lib\\site-packages\\selenium\\webdriver\\remote\\webdriver.py\u001b[0m in \u001b[0;36mfind_element\u001b[1;34m(self, by, value)\u001b[0m\n\u001b[0;32m    738\u001b[0m             \u001b[0mvalue\u001b[0m \u001b[1;33m=\u001b[0m \u001b[1;34mf'[name=\"{value}\"]'\u001b[0m\u001b[1;33m\u001b[0m\u001b[1;33m\u001b[0m\u001b[0m\n\u001b[0;32m    739\u001b[0m \u001b[1;33m\u001b[0m\u001b[0m\n\u001b[1;32m--> 740\u001b[1;33m         \u001b[1;32mreturn\u001b[0m \u001b[0mself\u001b[0m\u001b[1;33m.\u001b[0m\u001b[0mexecute\u001b[0m\u001b[1;33m(\u001b[0m\u001b[0mCommand\u001b[0m\u001b[1;33m.\u001b[0m\u001b[0mFIND_ELEMENT\u001b[0m\u001b[1;33m,\u001b[0m \u001b[1;33m{\u001b[0m\u001b[1;34m\"using\"\u001b[0m\u001b[1;33m:\u001b[0m \u001b[0mby\u001b[0m\u001b[1;33m,\u001b[0m \u001b[1;34m\"value\"\u001b[0m\u001b[1;33m:\u001b[0m \u001b[0mvalue\u001b[0m\u001b[1;33m}\u001b[0m\u001b[1;33m)\u001b[0m\u001b[1;33m[\u001b[0m\u001b[1;34m\"value\"\u001b[0m\u001b[1;33m]\u001b[0m\u001b[1;33m\u001b[0m\u001b[1;33m\u001b[0m\u001b[0m\n\u001b[0m\u001b[0;32m    741\u001b[0m \u001b[1;33m\u001b[0m\u001b[0m\n\u001b[0;32m    742\u001b[0m     \u001b[1;32mdef\u001b[0m \u001b[0mfind_elements\u001b[0m\u001b[1;33m(\u001b[0m\u001b[0mself\u001b[0m\u001b[1;33m,\u001b[0m \u001b[0mby\u001b[0m\u001b[1;33m=\u001b[0m\u001b[0mBy\u001b[0m\u001b[1;33m.\u001b[0m\u001b[0mID\u001b[0m\u001b[1;33m,\u001b[0m \u001b[0mvalue\u001b[0m\u001b[1;33m:\u001b[0m \u001b[0mOptional\u001b[0m\u001b[1;33m[\u001b[0m\u001b[0mstr\u001b[0m\u001b[1;33m]\u001b[0m \u001b[1;33m=\u001b[0m \u001b[1;32mNone\u001b[0m\u001b[1;33m)\u001b[0m \u001b[1;33m->\u001b[0m \u001b[0mList\u001b[0m\u001b[1;33m[\u001b[0m\u001b[0mWebElement\u001b[0m\u001b[1;33m]\u001b[0m\u001b[1;33m:\u001b[0m\u001b[1;33m\u001b[0m\u001b[1;33m\u001b[0m\u001b[0m\n",
      "\u001b[1;32m~\\anaconda3\\lib\\site-packages\\selenium\\webdriver\\remote\\webdriver.py\u001b[0m in \u001b[0;36mexecute\u001b[1;34m(self, driver_command, params)\u001b[0m\n\u001b[0;32m    344\u001b[0m         \u001b[0mresponse\u001b[0m \u001b[1;33m=\u001b[0m \u001b[0mself\u001b[0m\u001b[1;33m.\u001b[0m\u001b[0mcommand_executor\u001b[0m\u001b[1;33m.\u001b[0m\u001b[0mexecute\u001b[0m\u001b[1;33m(\u001b[0m\u001b[0mdriver_command\u001b[0m\u001b[1;33m,\u001b[0m \u001b[0mparams\u001b[0m\u001b[1;33m)\u001b[0m\u001b[1;33m\u001b[0m\u001b[1;33m\u001b[0m\u001b[0m\n\u001b[0;32m    345\u001b[0m         \u001b[1;32mif\u001b[0m \u001b[0mresponse\u001b[0m\u001b[1;33m:\u001b[0m\u001b[1;33m\u001b[0m\u001b[1;33m\u001b[0m\u001b[0m\n\u001b[1;32m--> 346\u001b[1;33m             \u001b[0mself\u001b[0m\u001b[1;33m.\u001b[0m\u001b[0merror_handler\u001b[0m\u001b[1;33m.\u001b[0m\u001b[0mcheck_response\u001b[0m\u001b[1;33m(\u001b[0m\u001b[0mresponse\u001b[0m\u001b[1;33m)\u001b[0m\u001b[1;33m\u001b[0m\u001b[1;33m\u001b[0m\u001b[0m\n\u001b[0m\u001b[0;32m    347\u001b[0m             \u001b[0mresponse\u001b[0m\u001b[1;33m[\u001b[0m\u001b[1;34m\"value\"\u001b[0m\u001b[1;33m]\u001b[0m \u001b[1;33m=\u001b[0m \u001b[0mself\u001b[0m\u001b[1;33m.\u001b[0m\u001b[0m_unwrap_value\u001b[0m\u001b[1;33m(\u001b[0m\u001b[0mresponse\u001b[0m\u001b[1;33m.\u001b[0m\u001b[0mget\u001b[0m\u001b[1;33m(\u001b[0m\u001b[1;34m\"value\"\u001b[0m\u001b[1;33m,\u001b[0m \u001b[1;32mNone\u001b[0m\u001b[1;33m)\u001b[0m\u001b[1;33m)\u001b[0m\u001b[1;33m\u001b[0m\u001b[1;33m\u001b[0m\u001b[0m\n\u001b[0;32m    348\u001b[0m             \u001b[1;32mreturn\u001b[0m \u001b[0mresponse\u001b[0m\u001b[1;33m\u001b[0m\u001b[1;33m\u001b[0m\u001b[0m\n",
      "\u001b[1;32m~\\anaconda3\\lib\\site-packages\\selenium\\webdriver\\remote\\errorhandler.py\u001b[0m in \u001b[0;36mcheck_response\u001b[1;34m(self, response)\u001b[0m\n\u001b[0;32m    243\u001b[0m                 \u001b[0malert_text\u001b[0m \u001b[1;33m=\u001b[0m \u001b[0mvalue\u001b[0m\u001b[1;33m[\u001b[0m\u001b[1;34m\"alert\"\u001b[0m\u001b[1;33m]\u001b[0m\u001b[1;33m.\u001b[0m\u001b[0mget\u001b[0m\u001b[1;33m(\u001b[0m\u001b[1;34m\"text\"\u001b[0m\u001b[1;33m)\u001b[0m\u001b[1;33m\u001b[0m\u001b[1;33m\u001b[0m\u001b[0m\n\u001b[0;32m    244\u001b[0m             \u001b[1;32mraise\u001b[0m \u001b[0mexception_class\u001b[0m\u001b[1;33m(\u001b[0m\u001b[0mmessage\u001b[0m\u001b[1;33m,\u001b[0m \u001b[0mscreen\u001b[0m\u001b[1;33m,\u001b[0m \u001b[0mstacktrace\u001b[0m\u001b[1;33m,\u001b[0m \u001b[0malert_text\u001b[0m\u001b[1;33m)\u001b[0m  \u001b[1;31m# type: ignore[call-arg]  # mypy is not smart enough here\u001b[0m\u001b[1;33m\u001b[0m\u001b[1;33m\u001b[0m\u001b[0m\n\u001b[1;32m--> 245\u001b[1;33m         \u001b[1;32mraise\u001b[0m \u001b[0mexception_class\u001b[0m\u001b[1;33m(\u001b[0m\u001b[0mmessage\u001b[0m\u001b[1;33m,\u001b[0m \u001b[0mscreen\u001b[0m\u001b[1;33m,\u001b[0m \u001b[0mstacktrace\u001b[0m\u001b[1;33m)\u001b[0m\u001b[1;33m\u001b[0m\u001b[1;33m\u001b[0m\u001b[0m\n\u001b[0m",
      "\u001b[1;31mNoSuchElementException\u001b[0m: Message: no such element: Unable to locate element: {\"method\":\"xpath\",\"selector\":\"/html/body/div[1]/header/nav/div[1]/div[1]/div/div/svg\"}\n  (Session info: chrome=115.0.5790.170); For documentation on this error, please visit: https://www.selenium.dev/documentation/webdriver/troubleshooting/errors#no-such-element-exception\nStacktrace:\nBacktrace:\n\tGetHandleVerifier [0x0118A813+48355]\n\t(No symbol) [0x0111C4B1]\n\t(No symbol) [0x01025358]\n\t(No symbol) [0x010509A5]\n\t(No symbol) [0x01050B3B]\n\t(No symbol) [0x0107E232]\n\t(No symbol) [0x0106A784]\n\t(No symbol) [0x0107C922]\n\t(No symbol) [0x0106A536]\n\t(No symbol) [0x010482DC]\n\t(No symbol) [0x010493DD]\n\tGetHandleVerifier [0x013EAABD+2539405]\n\tGetHandleVerifier [0x0142A78F+2800735]\n\tGetHandleVerifier [0x0142456C+2775612]\n\tGetHandleVerifier [0x012151E0+616112]\n\t(No symbol) [0x01125F8C]\n\t(No symbol) [0x01122328]\n\t(No symbol) [0x0112240B]\n\t(No symbol) [0x01114FF7]\n\tBaseThreadInitThunk [0x75B300C9+25]\n\tRtlGetAppContainerNamedObjectPath [0x77507B4E+286]\n\tRtlGetAppContainerNamedObjectPath [0x77507B1E+238]\n"
     ]
    }
   ],
   "source": [
    "search=driver.find_element(By.XPATH, '/html/body/div[1]/header/nav/div[1]/div[1]/div/div/svg')\n",
    "search.click()"
   ]
  },
  {
   "cell_type": "code",
   "execution_count": 7,
   "id": "55368e7c",
   "metadata": {},
   "outputs": [
    {
     "name": "stdout",
     "output_type": "stream",
     "text": [
      "Exception Raised: Message: no such element: Unable to locate element: {\"method\":\"css selector\",\"selector\":\".z1asCe MZy1Rb\"}\n",
      "  (Session info: chrome=115.0.5790.170); For documentation on this error, please visit: https://www.selenium.dev/documentation/webdriver/troubleshooting/errors#no-such-element-exception\n",
      "Stacktrace:\n",
      "Backtrace:\n",
      "\tGetHandleVerifier [0x0118A813+48355]\n",
      "\t(No symbol) [0x0111C4B1]\n",
      "\t(No symbol) [0x01025358]\n",
      "\t(No symbol) [0x010509A5]\n",
      "\t(No symbol) [0x01050B3B]\n",
      "\t(No symbol) [0x0107E232]\n",
      "\t(No symbol) [0x0106A784]\n",
      "\t(No symbol) [0x0107C922]\n",
      "\t(No symbol) [0x0106A536]\n",
      "\t(No symbol) [0x010482DC]\n",
      "\t(No symbol) [0x010493DD]\n",
      "\tGetHandleVerifier [0x013EAABD+2539405]\n",
      "\tGetHandleVerifier [0x0142A78F+2800735]\n",
      "\tGetHandleVerifier [0x0142456C+2775612]\n",
      "\tGetHandleVerifier [0x012151E0+616112]\n",
      "\t(No symbol) [0x01125F8C]\n",
      "\t(No symbol) [0x01122328]\n",
      "\t(No symbol) [0x0112240B]\n",
      "\t(No symbol) [0x01114FF7]\n",
      "\tBaseThreadInitThunk [0x75B300C9+25]\n",
      "\tRtlGetAppContainerNamedObjectPath [0x77507B4E+286]\n",
      "\tRtlGetAppContainerNamedObjectPath [0x77507B1E+238]\n",
      "\n"
     ]
    },
    {
     "ename": "NoSuchElementException",
     "evalue": "Message: no such element: Unable to locate element: {\"method\":\"css selector\",\"selector\":\".hamburger_svg__fs-icon hamburger_svg__fs-icon--hamburger\"}\n  (Session info: chrome=115.0.5790.170); For documentation on this error, please visit: https://www.selenium.dev/documentation/webdriver/troubleshooting/errors#no-such-element-exception\nStacktrace:\nBacktrace:\n\tGetHandleVerifier [0x0118A813+48355]\n\t(No symbol) [0x0111C4B1]\n\t(No symbol) [0x01025358]\n\t(No symbol) [0x010509A5]\n\t(No symbol) [0x01050B3B]\n\t(No symbol) [0x0107E232]\n\t(No symbol) [0x0106A784]\n\t(No symbol) [0x0107C922]\n\t(No symbol) [0x0106A536]\n\t(No symbol) [0x010482DC]\n\t(No symbol) [0x010493DD]\n\tGetHandleVerifier [0x013EAABD+2539405]\n\tGetHandleVerifier [0x0142A78F+2800735]\n\tGetHandleVerifier [0x0142456C+2775612]\n\tGetHandleVerifier [0x012151E0+616112]\n\t(No symbol) [0x01125F8C]\n\t(No symbol) [0x01122328]\n\t(No symbol) [0x0112240B]\n\t(No symbol) [0x01114FF7]\n\tBaseThreadInitThunk [0x75B300C9+25]\n\tRtlGetAppContainerNamedObjectPath [0x77507B4E+286]\n\tRtlGetAppContainerNamedObjectPath [0x77507B1E+238]\n",
     "output_type": "error",
     "traceback": [
      "\u001b[1;31m---------------------------------------------------------------------------\u001b[0m",
      "\u001b[1;31mNoSuchElementException\u001b[0m                    Traceback (most recent call last)",
      "\u001b[1;32m~\\AppData\\Local\\Temp\\ipykernel_15220\\2579578034.py\u001b[0m in \u001b[0;36m<module>\u001b[1;34m\u001b[0m\n\u001b[0;32m      1\u001b[0m \u001b[1;32mtry\u001b[0m\u001b[1;33m:\u001b[0m\u001b[1;33m\u001b[0m\u001b[1;33m\u001b[0m\u001b[0m\n\u001b[1;32m----> 2\u001b[1;33m     \u001b[0msearch\u001b[0m\u001b[1;33m=\u001b[0m\u001b[0mdriver\u001b[0m\u001b[1;33m.\u001b[0m\u001b[0mfind_element\u001b[0m\u001b[1;33m(\u001b[0m\u001b[0mBy\u001b[0m\u001b[1;33m.\u001b[0m\u001b[0mCLASS_NAME\u001b[0m\u001b[1;33m,\u001b[0m \u001b[1;34m\"z1asCe MZy1Rb\"\u001b[0m\u001b[1;33m)\u001b[0m\u001b[1;33m\u001b[0m\u001b[1;33m\u001b[0m\u001b[0m\n\u001b[0m\u001b[0;32m      3\u001b[0m     \u001b[0mprint\u001b[0m\u001b[1;33m(\u001b[0m\u001b[0msearch\u001b[0m\u001b[1;33m.\u001b[0m\u001b[0mtext\u001b[0m\u001b[1;33m)\u001b[0m\u001b[1;33m\u001b[0m\u001b[1;33m\u001b[0m\u001b[0m\n",
      "\u001b[1;32m~\\anaconda3\\lib\\site-packages\\selenium\\webdriver\\remote\\webdriver.py\u001b[0m in \u001b[0;36mfind_element\u001b[1;34m(self, by, value)\u001b[0m\n\u001b[0;32m    739\u001b[0m \u001b[1;33m\u001b[0m\u001b[0m\n\u001b[1;32m--> 740\u001b[1;33m         \u001b[1;32mreturn\u001b[0m \u001b[0mself\u001b[0m\u001b[1;33m.\u001b[0m\u001b[0mexecute\u001b[0m\u001b[1;33m(\u001b[0m\u001b[0mCommand\u001b[0m\u001b[1;33m.\u001b[0m\u001b[0mFIND_ELEMENT\u001b[0m\u001b[1;33m,\u001b[0m \u001b[1;33m{\u001b[0m\u001b[1;34m\"using\"\u001b[0m\u001b[1;33m:\u001b[0m \u001b[0mby\u001b[0m\u001b[1;33m,\u001b[0m \u001b[1;34m\"value\"\u001b[0m\u001b[1;33m:\u001b[0m \u001b[0mvalue\u001b[0m\u001b[1;33m}\u001b[0m\u001b[1;33m)\u001b[0m\u001b[1;33m[\u001b[0m\u001b[1;34m\"value\"\u001b[0m\u001b[1;33m]\u001b[0m\u001b[1;33m\u001b[0m\u001b[1;33m\u001b[0m\u001b[0m\n\u001b[0m\u001b[0;32m    741\u001b[0m \u001b[1;33m\u001b[0m\u001b[0m\n",
      "\u001b[1;32m~\\anaconda3\\lib\\site-packages\\selenium\\webdriver\\remote\\webdriver.py\u001b[0m in \u001b[0;36mexecute\u001b[1;34m(self, driver_command, params)\u001b[0m\n\u001b[0;32m    345\u001b[0m         \u001b[1;32mif\u001b[0m \u001b[0mresponse\u001b[0m\u001b[1;33m:\u001b[0m\u001b[1;33m\u001b[0m\u001b[1;33m\u001b[0m\u001b[0m\n\u001b[1;32m--> 346\u001b[1;33m             \u001b[0mself\u001b[0m\u001b[1;33m.\u001b[0m\u001b[0merror_handler\u001b[0m\u001b[1;33m.\u001b[0m\u001b[0mcheck_response\u001b[0m\u001b[1;33m(\u001b[0m\u001b[0mresponse\u001b[0m\u001b[1;33m)\u001b[0m\u001b[1;33m\u001b[0m\u001b[1;33m\u001b[0m\u001b[0m\n\u001b[0m\u001b[0;32m    347\u001b[0m             \u001b[0mresponse\u001b[0m\u001b[1;33m[\u001b[0m\u001b[1;34m\"value\"\u001b[0m\u001b[1;33m]\u001b[0m \u001b[1;33m=\u001b[0m \u001b[0mself\u001b[0m\u001b[1;33m.\u001b[0m\u001b[0m_unwrap_value\u001b[0m\u001b[1;33m(\u001b[0m\u001b[0mresponse\u001b[0m\u001b[1;33m.\u001b[0m\u001b[0mget\u001b[0m\u001b[1;33m(\u001b[0m\u001b[1;34m\"value\"\u001b[0m\u001b[1;33m,\u001b[0m \u001b[1;32mNone\u001b[0m\u001b[1;33m)\u001b[0m\u001b[1;33m)\u001b[0m\u001b[1;33m\u001b[0m\u001b[1;33m\u001b[0m\u001b[0m\n",
      "\u001b[1;32m~\\anaconda3\\lib\\site-packages\\selenium\\webdriver\\remote\\errorhandler.py\u001b[0m in \u001b[0;36mcheck_response\u001b[1;34m(self, response)\u001b[0m\n\u001b[0;32m    244\u001b[0m             \u001b[1;32mraise\u001b[0m \u001b[0mexception_class\u001b[0m\u001b[1;33m(\u001b[0m\u001b[0mmessage\u001b[0m\u001b[1;33m,\u001b[0m \u001b[0mscreen\u001b[0m\u001b[1;33m,\u001b[0m \u001b[0mstacktrace\u001b[0m\u001b[1;33m,\u001b[0m \u001b[0malert_text\u001b[0m\u001b[1;33m)\u001b[0m  \u001b[1;31m# type: ignore[call-arg]  # mypy is not smart enough here\u001b[0m\u001b[1;33m\u001b[0m\u001b[1;33m\u001b[0m\u001b[0m\n\u001b[1;32m--> 245\u001b[1;33m         \u001b[1;32mraise\u001b[0m \u001b[0mexception_class\u001b[0m\u001b[1;33m(\u001b[0m\u001b[0mmessage\u001b[0m\u001b[1;33m,\u001b[0m \u001b[0mscreen\u001b[0m\u001b[1;33m,\u001b[0m \u001b[0mstacktrace\u001b[0m\u001b[1;33m)\u001b[0m\u001b[1;33m\u001b[0m\u001b[1;33m\u001b[0m\u001b[0m\n\u001b[0m",
      "\u001b[1;31mNoSuchElementException\u001b[0m: Message: no such element: Unable to locate element: {\"method\":\"css selector\",\"selector\":\".z1asCe MZy1Rb\"}\n  (Session info: chrome=115.0.5790.170); For documentation on this error, please visit: https://www.selenium.dev/documentation/webdriver/troubleshooting/errors#no-such-element-exception\nStacktrace:\nBacktrace:\n\tGetHandleVerifier [0x0118A813+48355]\n\t(No symbol) [0x0111C4B1]\n\t(No symbol) [0x01025358]\n\t(No symbol) [0x010509A5]\n\t(No symbol) [0x01050B3B]\n\t(No symbol) [0x0107E232]\n\t(No symbol) [0x0106A784]\n\t(No symbol) [0x0107C922]\n\t(No symbol) [0x0106A536]\n\t(No symbol) [0x010482DC]\n\t(No symbol) [0x010493DD]\n\tGetHandleVerifier [0x013EAABD+2539405]\n\tGetHandleVerifier [0x0142A78F+2800735]\n\tGetHandleVerifier [0x0142456C+2775612]\n\tGetHandleVerifier [0x012151E0+616112]\n\t(No symbol) [0x01125F8C]\n\t(No symbol) [0x01122328]\n\t(No symbol) [0x0112240B]\n\t(No symbol) [0x01114FF7]\n\tBaseThreadInitThunk [0x75B300C9+25]\n\tRtlGetAppContainerNamedObjectPath [0x77507B4E+286]\n\tRtlGetAppContainerNamedObjectPath [0x77507B1E+238]\n",
      "\nDuring handling of the above exception, another exception occurred:\n",
      "\u001b[1;31mNoSuchElementException\u001b[0m                    Traceback (most recent call last)",
      "\u001b[1;32m~\\AppData\\Local\\Temp\\ipykernel_15220\\2579578034.py\u001b[0m in \u001b[0;36m<module>\u001b[1;34m\u001b[0m\n\u001b[0;32m      4\u001b[0m \u001b[1;32mexcept\u001b[0m \u001b[0mNoSuchElementException\u001b[0m \u001b[1;32mas\u001b[0m \u001b[0me\u001b[0m\u001b[1;33m:\u001b[0m\u001b[1;33m\u001b[0m\u001b[1;33m\u001b[0m\u001b[0m\n\u001b[0;32m      5\u001b[0m     \u001b[0mprint\u001b[0m\u001b[1;33m(\u001b[0m\u001b[1;34m\"Exception Raised:\"\u001b[0m\u001b[1;33m,\u001b[0m \u001b[0me\u001b[0m\u001b[1;33m)\u001b[0m\u001b[1;33m\u001b[0m\u001b[1;33m\u001b[0m\u001b[0m\n\u001b[1;32m----> 6\u001b[1;33m     \u001b[0msearch\u001b[0m\u001b[1;33m=\u001b[0m\u001b[0mdriver\u001b[0m\u001b[1;33m.\u001b[0m\u001b[0mfind_element\u001b[0m\u001b[1;33m(\u001b[0m\u001b[0mBy\u001b[0m\u001b[1;33m.\u001b[0m\u001b[0mCLASS_NAME\u001b[0m\u001b[1;33m,\u001b[0m\u001b[1;34m\"hamburger_svg__fs-icon hamburger_svg__fs-icon--hamburger\"\u001b[0m\u001b[1;33m)\u001b[0m\u001b[1;33m\u001b[0m\u001b[1;33m\u001b[0m\u001b[0m\n\u001b[0m\u001b[0;32m      7\u001b[0m     \u001b[0mprint\u001b[0m\u001b[1;33m(\u001b[0m\u001b[0msearch\u001b[0m\u001b[1;33m.\u001b[0m\u001b[0mtext\u001b[0m\u001b[1;33m)\u001b[0m\u001b[1;33m\u001b[0m\u001b[1;33m\u001b[0m\u001b[0m\n",
      "\u001b[1;32m~\\anaconda3\\lib\\site-packages\\selenium\\webdriver\\remote\\webdriver.py\u001b[0m in \u001b[0;36mfind_element\u001b[1;34m(self, by, value)\u001b[0m\n\u001b[0;32m    738\u001b[0m             \u001b[0mvalue\u001b[0m \u001b[1;33m=\u001b[0m \u001b[1;34mf'[name=\"{value}\"]'\u001b[0m\u001b[1;33m\u001b[0m\u001b[1;33m\u001b[0m\u001b[0m\n\u001b[0;32m    739\u001b[0m \u001b[1;33m\u001b[0m\u001b[0m\n\u001b[1;32m--> 740\u001b[1;33m         \u001b[1;32mreturn\u001b[0m \u001b[0mself\u001b[0m\u001b[1;33m.\u001b[0m\u001b[0mexecute\u001b[0m\u001b[1;33m(\u001b[0m\u001b[0mCommand\u001b[0m\u001b[1;33m.\u001b[0m\u001b[0mFIND_ELEMENT\u001b[0m\u001b[1;33m,\u001b[0m \u001b[1;33m{\u001b[0m\u001b[1;34m\"using\"\u001b[0m\u001b[1;33m:\u001b[0m \u001b[0mby\u001b[0m\u001b[1;33m,\u001b[0m \u001b[1;34m\"value\"\u001b[0m\u001b[1;33m:\u001b[0m \u001b[0mvalue\u001b[0m\u001b[1;33m}\u001b[0m\u001b[1;33m)\u001b[0m\u001b[1;33m[\u001b[0m\u001b[1;34m\"value\"\u001b[0m\u001b[1;33m]\u001b[0m\u001b[1;33m\u001b[0m\u001b[1;33m\u001b[0m\u001b[0m\n\u001b[0m\u001b[0;32m    741\u001b[0m \u001b[1;33m\u001b[0m\u001b[0m\n\u001b[0;32m    742\u001b[0m     \u001b[1;32mdef\u001b[0m \u001b[0mfind_elements\u001b[0m\u001b[1;33m(\u001b[0m\u001b[0mself\u001b[0m\u001b[1;33m,\u001b[0m \u001b[0mby\u001b[0m\u001b[1;33m=\u001b[0m\u001b[0mBy\u001b[0m\u001b[1;33m.\u001b[0m\u001b[0mID\u001b[0m\u001b[1;33m,\u001b[0m \u001b[0mvalue\u001b[0m\u001b[1;33m:\u001b[0m \u001b[0mOptional\u001b[0m\u001b[1;33m[\u001b[0m\u001b[0mstr\u001b[0m\u001b[1;33m]\u001b[0m \u001b[1;33m=\u001b[0m \u001b[1;32mNone\u001b[0m\u001b[1;33m)\u001b[0m \u001b[1;33m->\u001b[0m \u001b[0mList\u001b[0m\u001b[1;33m[\u001b[0m\u001b[0mWebElement\u001b[0m\u001b[1;33m]\u001b[0m\u001b[1;33m:\u001b[0m\u001b[1;33m\u001b[0m\u001b[1;33m\u001b[0m\u001b[0m\n",
      "\u001b[1;32m~\\anaconda3\\lib\\site-packages\\selenium\\webdriver\\remote\\webdriver.py\u001b[0m in \u001b[0;36mexecute\u001b[1;34m(self, driver_command, params)\u001b[0m\n\u001b[0;32m    344\u001b[0m         \u001b[0mresponse\u001b[0m \u001b[1;33m=\u001b[0m \u001b[0mself\u001b[0m\u001b[1;33m.\u001b[0m\u001b[0mcommand_executor\u001b[0m\u001b[1;33m.\u001b[0m\u001b[0mexecute\u001b[0m\u001b[1;33m(\u001b[0m\u001b[0mdriver_command\u001b[0m\u001b[1;33m,\u001b[0m \u001b[0mparams\u001b[0m\u001b[1;33m)\u001b[0m\u001b[1;33m\u001b[0m\u001b[1;33m\u001b[0m\u001b[0m\n\u001b[0;32m    345\u001b[0m         \u001b[1;32mif\u001b[0m \u001b[0mresponse\u001b[0m\u001b[1;33m:\u001b[0m\u001b[1;33m\u001b[0m\u001b[1;33m\u001b[0m\u001b[0m\n\u001b[1;32m--> 346\u001b[1;33m             \u001b[0mself\u001b[0m\u001b[1;33m.\u001b[0m\u001b[0merror_handler\u001b[0m\u001b[1;33m.\u001b[0m\u001b[0mcheck_response\u001b[0m\u001b[1;33m(\u001b[0m\u001b[0mresponse\u001b[0m\u001b[1;33m)\u001b[0m\u001b[1;33m\u001b[0m\u001b[1;33m\u001b[0m\u001b[0m\n\u001b[0m\u001b[0;32m    347\u001b[0m             \u001b[0mresponse\u001b[0m\u001b[1;33m[\u001b[0m\u001b[1;34m\"value\"\u001b[0m\u001b[1;33m]\u001b[0m \u001b[1;33m=\u001b[0m \u001b[0mself\u001b[0m\u001b[1;33m.\u001b[0m\u001b[0m_unwrap_value\u001b[0m\u001b[1;33m(\u001b[0m\u001b[0mresponse\u001b[0m\u001b[1;33m.\u001b[0m\u001b[0mget\u001b[0m\u001b[1;33m(\u001b[0m\u001b[1;34m\"value\"\u001b[0m\u001b[1;33m,\u001b[0m \u001b[1;32mNone\u001b[0m\u001b[1;33m)\u001b[0m\u001b[1;33m)\u001b[0m\u001b[1;33m\u001b[0m\u001b[1;33m\u001b[0m\u001b[0m\n\u001b[0;32m    348\u001b[0m             \u001b[1;32mreturn\u001b[0m \u001b[0mresponse\u001b[0m\u001b[1;33m\u001b[0m\u001b[1;33m\u001b[0m\u001b[0m\n",
      "\u001b[1;32m~\\anaconda3\\lib\\site-packages\\selenium\\webdriver\\remote\\errorhandler.py\u001b[0m in \u001b[0;36mcheck_response\u001b[1;34m(self, response)\u001b[0m\n\u001b[0;32m    243\u001b[0m                 \u001b[0malert_text\u001b[0m \u001b[1;33m=\u001b[0m \u001b[0mvalue\u001b[0m\u001b[1;33m[\u001b[0m\u001b[1;34m\"alert\"\u001b[0m\u001b[1;33m]\u001b[0m\u001b[1;33m.\u001b[0m\u001b[0mget\u001b[0m\u001b[1;33m(\u001b[0m\u001b[1;34m\"text\"\u001b[0m\u001b[1;33m)\u001b[0m\u001b[1;33m\u001b[0m\u001b[1;33m\u001b[0m\u001b[0m\n\u001b[0;32m    244\u001b[0m             \u001b[1;32mraise\u001b[0m \u001b[0mexception_class\u001b[0m\u001b[1;33m(\u001b[0m\u001b[0mmessage\u001b[0m\u001b[1;33m,\u001b[0m \u001b[0mscreen\u001b[0m\u001b[1;33m,\u001b[0m \u001b[0mstacktrace\u001b[0m\u001b[1;33m,\u001b[0m \u001b[0malert_text\u001b[0m\u001b[1;33m)\u001b[0m  \u001b[1;31m# type: ignore[call-arg]  # mypy is not smart enough here\u001b[0m\u001b[1;33m\u001b[0m\u001b[1;33m\u001b[0m\u001b[0m\n\u001b[1;32m--> 245\u001b[1;33m         \u001b[1;32mraise\u001b[0m \u001b[0mexception_class\u001b[0m\u001b[1;33m(\u001b[0m\u001b[0mmessage\u001b[0m\u001b[1;33m,\u001b[0m \u001b[0mscreen\u001b[0m\u001b[1;33m,\u001b[0m \u001b[0mstacktrace\u001b[0m\u001b[1;33m)\u001b[0m\u001b[1;33m\u001b[0m\u001b[1;33m\u001b[0m\u001b[0m\n\u001b[0m",
      "\u001b[1;31mNoSuchElementException\u001b[0m: Message: no such element: Unable to locate element: {\"method\":\"css selector\",\"selector\":\".hamburger_svg__fs-icon hamburger_svg__fs-icon--hamburger\"}\n  (Session info: chrome=115.0.5790.170); For documentation on this error, please visit: https://www.selenium.dev/documentation/webdriver/troubleshooting/errors#no-such-element-exception\nStacktrace:\nBacktrace:\n\tGetHandleVerifier [0x0118A813+48355]\n\t(No symbol) [0x0111C4B1]\n\t(No symbol) [0x01025358]\n\t(No symbol) [0x010509A5]\n\t(No symbol) [0x01050B3B]\n\t(No symbol) [0x0107E232]\n\t(No symbol) [0x0106A784]\n\t(No symbol) [0x0107C922]\n\t(No symbol) [0x0106A536]\n\t(No symbol) [0x010482DC]\n\t(No symbol) [0x010493DD]\n\tGetHandleVerifier [0x013EAABD+2539405]\n\tGetHandleVerifier [0x0142A78F+2800735]\n\tGetHandleVerifier [0x0142456C+2775612]\n\tGetHandleVerifier [0x012151E0+616112]\n\t(No symbol) [0x01125F8C]\n\t(No symbol) [0x01122328]\n\t(No symbol) [0x0112240B]\n\t(No symbol) [0x01114FF7]\n\tBaseThreadInitThunk [0x75B300C9+25]\n\tRtlGetAppContainerNamedObjectPath [0x77507B4E+286]\n\tRtlGetAppContainerNamedObjectPath [0x77507B1E+238]\n"
     ]
    }
   ],
   "source": [
    "try:\n",
    "    search=driver.find_element(By.CLASS_NAME, \"z1asCe MZy1Rb\")\n",
    "    print(search.text)\n",
    "except NoSuchElementException as e:\n",
    "    print(\"Exception Raised:\", e)\n",
    "    search=driver.find_element(By.CLASS_NAME,\"hamburger_svg__fs-icon hamburger_svg__fs-icon--hamburger\")\n",
    "\n",
    "    print(search.text)"
   ]
  },
  {
   "cell_type": "code",
   "execution_count": 10,
   "id": "5b0b2317",
   "metadata": {},
   "outputs": [],
   "source": [
    "search=driver.find_element(By.XPATH,'/html/body/div[1]/header/nav/div[1]/div[1]/div/div')\n",
    "search.click()"
   ]
  },
  {
   "cell_type": "code",
   "execution_count": 11,
   "id": "779fb0ab",
   "metadata": {},
   "outputs": [],
   "source": [
    "search=driver.find_element(By.XPATH, '/html/body/div[1]/header/nav/div[1]/div[1]/div/div[2]/ul/li[2]/div[1]')\n",
    "search.click()"
   ]
  },
  {
   "cell_type": "code",
   "execution_count": 28,
   "id": "c4e51469",
   "metadata": {},
   "outputs": [],
   "source": [
    "search=driver.find_element(By.XPATH, '/html/body/div[3]/div/div/div[2]/div[2]/div[2]/div/div[2]/div/div/div[2]/div/div[1]/div/div[2]/div/ul/li[2]/button/div[2]/div[1]')\n",
    "search.click()"
   ]
  },
  {
   "cell_type": "markdown",
   "id": "8961605a",
   "metadata": {},
   "source": [
    "# 9. Write a python program to scrape a data for all available Hostels from https://www.hostelworld.com/ in\n",
    "“London” location. You have to scrape hostel name, distance from city centre, ratings, total reviews, overall\n",
    "reviews, privates from price, dorms from price, facilities and property description."
   ]
  },
  {
   "cell_type": "code",
   "execution_count": 23,
   "id": "8eecb83c",
   "metadata": {},
   "outputs": [
    {
     "name": "stderr",
     "output_type": "stream",
     "text": [
      "Error getting version of chromedriver 115. Retrying with chromedriver 114 (attempt 1/5)\n"
     ]
    }
   ],
   "source": [
    "driver=webdriver.Chrome()"
   ]
  },
  {
   "cell_type": "code",
   "execution_count": 24,
   "id": "3d0e6195",
   "metadata": {},
   "outputs": [],
   "source": [
    "driver.get(\"https://www.hostelworld.com/\")"
   ]
  },
  {
   "cell_type": "code",
   "execution_count": 25,
   "id": "b14a3572",
   "metadata": {},
   "outputs": [],
   "source": [
    "search=driver.find_element(By.XPATH, '/html/body/div[3]/div/div/div[2]/div[2]/div[2]/div/div[2]/div/div/div[2]/div/div[1]/div/div[1]/div/div/div[2]/input')\n",
    "search.send_keys(\"London\")"
   ]
  },
  {
   "cell_type": "code",
   "execution_count": 26,
   "id": "a71d0148",
   "metadata": {},
   "outputs": [],
   "source": [
    "search_button=driver.find_element(By.XPATH, '/html/body/div[3]/div/div/div[2]/div[2]/div[2]/div/div[2]/div/div/div[2]/div/div[1]/div/div[2]/div/ul/li[2]/button/div[2]/div[1]')\n",
    "search_button.click()"
   ]
  },
  {
   "cell_type": "code",
   "execution_count": 27,
   "id": "20276e76",
   "metadata": {},
   "outputs": [],
   "source": [
    "next=driver.find_element(By.XPATH, '/html/body/div[3]/div/div/div[2]/div[2]/div[2]/div/div[2]/div/div/div[3]/div/div/button[2]')\n",
    "next.click()"
   ]
  },
  {
   "cell_type": "code",
   "execution_count": 33,
   "id": "132499b1",
   "metadata": {},
   "outputs": [],
   "source": [
    "product_urls=[]\n",
    "start=0\n",
    "end=2\n",
    "for page in range(start,end):\n",
    "    url=driver.find_elements(By.XPATH, '//a[@class=\"property-card-container\"]')\n",
    "    for i in url:\n",
    "        product_urls.append(i.get_attribute(\"href\"))\n",
    "        next_button=driver.find_elements(By.XPATH,'//button[@class=\"pill-content page-nav nav-right icon-only\"]')\n",
    "        time.sleep(3)"
   ]
  },
  {
   "cell_type": "code",
   "execution_count": 40,
   "id": "6ce6d11b",
   "metadata": {},
   "outputs": [],
   "source": [
    "for i in product_urls:\n",
    "    driver.get(i)\n",
    "    time.sleep(3)"
   ]
  },
  {
   "cell_type": "code",
   "execution_count": 41,
   "id": "bcf9758b",
   "metadata": {},
   "outputs": [],
   "source": [
    "hostel_name = []\n",
    "pvt_prices = []\n",
    "dorms_price = []\n",
    "rating = []\n",
    "reviews = []\n",
    "facilities = []\n",
    "description = []"
   ]
  },
  {
   "cell_type": "code",
   "execution_count": 42,
   "id": "9dba6693",
   "metadata": {},
   "outputs": [],
   "source": [
    "try:\n",
    "    name=driver.find_element(By.XPATH, '//div[@class=\"title-2\"]')\n",
    "    hostel_name.append(name.text)\n",
    "except NoSuchElementException:\n",
    "    hostel_name.append('-')     \n",
    "try:\n",
    "    pvt_price=driver.find_element(By.XPATH, '//div[@class=\"rate-price-line\"]')\n",
    "    pvt_prices.append(pvt_price.text)\n",
    "except NoSuchElementException:\n",
    "    pvt_prices.append('-')\n",
    "try:\n",
    "    dorms=driver.find_element(By.XPATH, '//div[@class=\"room-details\"]')\n",
    "    dorms_price.append(dorms.text)\n",
    "except NoSuchElementException:\n",
    "    dorms_price.append('-')\n",
    "try:\n",
    "    fac1=driver.find_element(By.XPATH, '//ul[@class=\"facilities\"]')\n",
    "    facilities.append(fac1.text)\n",
    "except NoSuchElementException:\n",
    "    facilities.append('-')\n",
    "try:\n",
    "    rat=driver.find_element(By.XPATH, '//div[@class=\"score gray big\"]')\n",
    "    rating.append(rat.text)\n",
    "except NoSuchElementException:\n",
    "    rating.append('-')\n",
    "try:\n",
    "    rws=driver.find_element(By.XPATH, '//div[@class=\"description-wrapper body-2\"]')\n",
    "    reviews.append(rws.text)\n",
    "except NoSuchElementException:\n",
    "    reviews.append('-')\n",
    "try:\n",
    "    disc=driver.find_element(By.XPATH, '//div[@class=\"content collapse-content\"]')\n",
    "    description.append(disc.text)\n",
    "except NoSuchElementException:\n",
    "    over_all.append('-') \n",
    "    "
   ]
  },
  {
   "cell_type": "code",
   "execution_count": 44,
   "id": "23ff601a",
   "metadata": {},
   "outputs": [
    {
     "data": {
      "text/plain": [
       "(1, 0)"
      ]
     },
     "execution_count": 44,
     "metadata": {},
     "output_type": "execute_result"
    }
   ],
   "source": [
    "len(hostel_name), len(distance)"
   ]
  },
  {
   "cell_type": "code",
   "execution_count": null,
   "id": "d12b1b1b",
   "metadata": {},
   "outputs": [],
   "source": [
    "df=pd.DataFrame({'Hostel_Name': hostel_name, 'Prices': pvt_prices, 'Ratings': rating, 'Reviews': reviews, 'Dorms':dorms_price,\n",
    "'Facilities':facilities, 'Description':description})\n",
    "df"
   ]
  },
  {
   "cell_type": "markdown",
   "id": "74b586a3",
   "metadata": {},
   "source": [
    "# Question 6: Gaming laptops from digit.in"
   ]
  },
  {
   "cell_type": "code",
   "execution_count": 49,
   "id": "e2dd21e4",
   "metadata": {},
   "outputs": [],
   "source": [
    "driver=webdriver.Chrome()"
   ]
  },
  {
   "cell_type": "code",
   "execution_count": 50,
   "id": "e91dcb22",
   "metadata": {},
   "outputs": [],
   "source": [
    "driver.get(\"https://www.digit.in/\")\n"
   ]
  },
  {
   "cell_type": "code",
   "execution_count": 51,
   "id": "0ed97f1a",
   "metadata": {},
   "outputs": [],
   "source": [
    "search=driver.find_element(By.XPATH, '/html/body/div[1]/div/div[1]/nav/div/div/ul/li[4]/b').click()"
   ]
  },
  {
   "cell_type": "code",
   "execution_count": 52,
   "id": "9f12789f",
   "metadata": {},
   "outputs": [],
   "source": [
    "next=driver.find_element(By.XPATH, '/html/body/div[1]/div/div[1]/nav/div/div/ul/li[7]/b')\n",
    "next.click()\n",
    "                         "
   ]
  },
  {
   "cell_type": "code",
   "execution_count": 54,
   "id": "73ffcac3",
   "metadata": {},
   "outputs": [],
   "source": [
    "Laptop_Name = []\n",
    "Operating_sys = []\n",
    "Display = []\n",
    "Processor = []\n",
    "Memory = []\n",
    "Weight = []\n",
    "Dimensions = []\n",
    "Graph_proc = []\n",
    "Price = []"
   ]
  },
  {
   "cell_type": "code",
   "execution_count": null,
   "id": "27f91979",
   "metadata": {},
   "outputs": [],
   "source": [
    "laptop_name = driver.find_elements(By.XPATH, '//span[@class=\"datahreflink\"]')\n",
    "for name in laptop_name:\n",
    "    Laptop_Name.append(name.text)\n",
    "try:\n",
    "    op_sys = driver.find_elements(By.XPATH, '//span[@class=\"datahreflink\"]/div/table/tbody/td[2]/td[2')\n",
    "    for os in op_sys:\n",
    "        Operating_sys.append(os.text)\n",
    "except NoSuchElementException:\n",
    "    pass\n",
    "\n",
    "try:\n",
    "    display =driver.find_elements(By.XPATH, '')\n",
    "    for disp in display:\n",
    "        Display.append(disp.text)\n",
    "except NoSuchElementException:\n",
    "    pass\n",
    "try:\n",
    "    processor = driver.find_elements(By.XPATH, '')\n",
    "    for pro in processor:\n",
    "        Processor.append(pro.text)\n",
    "except NoSuchElementException:\n",
    "    pass\n",
    "try:\n",
    "    memory = driver.find_elements(By.XPATH, '')\n",
    "    for memo in memory:\n",
    "        Memory.append(memo.text)\n",
    "except NoSuchElementException:\n",
    "    pass\n",
    "try:\n",
    "    price = driver.find_elements(By.XPATH, '')\n",
    "    for pri in price:\n",
    "        Price.append(pri.text)\n",
    "except NoSuchElementException:\n",
    "    pass"
   ]
  }
 ],
 "metadata": {
  "kernelspec": {
   "display_name": "Python 3 (ipykernel)",
   "language": "python",
   "name": "python3"
  },
  "language_info": {
   "codemirror_mode": {
    "name": "ipython",
    "version": 3
   },
   "file_extension": ".py",
   "mimetype": "text/x-python",
   "name": "python",
   "nbconvert_exporter": "python",
   "pygments_lexer": "ipython3",
   "version": "3.9.13"
  }
 },
 "nbformat": 4,
 "nbformat_minor": 5
}
